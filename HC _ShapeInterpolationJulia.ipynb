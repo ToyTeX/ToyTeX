{
  "nbformat": 4,
  "nbformat_minor": 0,
  "metadata": {
    "colab": {
      "provenance": [],
      "collapsed_sections": [
        "axsf9-U58oO1"
      ],
      "authorship_tag": "ABX9TyOjltd8OTQ7iHoKMlPS8MGD",
      "include_colab_link": true
    },
    "kernelspec": {
      "name": "julia",
      "display_name": "Julia"
    },
    "language_info": {
      "name": "julia"
    }
  },
  "cells": [
    {
      "cell_type": "markdown",
      "metadata": {
        "id": "view-in-github",
        "colab_type": "text"
      },
      "source": [
        "<a href=\"https://colab.research.google.com/github/ToyTeX/ToyTeX/blob/main/HC%20_ShapeInterpolationJulia.ipynb\" target=\"_parent\"><img src=\"https://colab.research.google.com/assets/colab-badge.svg\" alt=\"Open In Colab\"/></a>"
      ]
    },
    {
      "cell_type": "markdown",
      "source": [
        "# [Homotopy Continuation](https://www.juliahomotopycontinuation.org/) \"Shape Interpolation\"  Notebook\n"
      ],
      "metadata": {
        "id": "CAdASt3zS4nQ"
      }
    },
    {
      "cell_type": "code",
      "source": [
        "import Pkg\n",
        "Pkg.add(\"HomotopyContinuation\")\n",
        "Pkg.add(\"DynamicPolynomials\")\n",
        "Pkg.add(\"Plots\")\n",
        "Pkg.add(\"LinearAlgebra\")"
      ],
      "metadata": {
        "colab": {
          "base_uri": "https://localhost:8080/"
        },
        "id": "jPK7_ylB0rN8",
        "outputId": "1f4cf507-cc20-4d38-8d6b-3132feb2447b"
      },
      "execution_count": 183,
      "outputs": [
        {
          "output_type": "stream",
          "name": "stderr",
          "text": [
            "\u001b[32m\u001b[1m   Resolving\u001b[22m\u001b[39m package versions...\n",
            "\u001b[32m\u001b[1m  No Changes\u001b[22m\u001b[39m to `~/.julia/environments/v1.11/Project.toml`\n",
            "\u001b[32m\u001b[1m  No Changes\u001b[22m\u001b[39m to `~/.julia/environments/v1.11/Manifest.toml`\n",
            "\u001b[32m\u001b[1m   Resolving\u001b[22m\u001b[39m package versions...\n",
            "\u001b[32m\u001b[1m  No Changes\u001b[22m\u001b[39m to `~/.julia/environments/v1.11/Project.toml`\n",
            "\u001b[32m\u001b[1m  No Changes\u001b[22m\u001b[39m to `~/.julia/environments/v1.11/Manifest.toml`\n",
            "\u001b[32m\u001b[1m   Resolving\u001b[22m\u001b[39m package versions...\n",
            "\u001b[32m\u001b[1m  No Changes\u001b[22m\u001b[39m to `~/.julia/environments/v1.11/Project.toml`\n",
            "\u001b[32m\u001b[1m  No Changes\u001b[22m\u001b[39m to `~/.julia/environments/v1.11/Manifest.toml`\n",
            "\u001b[32m\u001b[1m   Resolving\u001b[22m\u001b[39m package versions...\n",
            "\u001b[32m\u001b[1m    Updating\u001b[22m\u001b[39m `~/.julia/environments/v1.11/Project.toml`\n",
            "  \u001b[90m[37e2e46d] \u001b[39m\u001b[92m+ LinearAlgebra v1.11.0\u001b[39m\n",
            "\u001b[32m\u001b[1m  No Changes\u001b[22m\u001b[39m to `~/.julia/environments/v1.11/Manifest.toml`\n"
          ]
        }
      ]
    },
    {
      "cell_type": "markdown",
      "source": [
        "# [Minimal Example](https://www.juliahomotopycontinuation.org/guides/introduction/): Solving a homotopy system\n"
      ],
      "metadata": {
        "id": "OA_j72DU8rIZ"
      }
    },
    {
      "cell_type": "code",
      "source": [
        "\n",
        "# declare variables x and y\n",
        "@var x y\n",
        "# define the polynomials\n",
        "f₁ = (x^4 + y^4 - 1) * (x^2 + y^2 - 2) + x^5 * y\n",
        "f₂ = x^2+2x*y^2 - 2y^2 - 1/2\n",
        "F = System([f₁, f₂])\n",
        "result = solve(F)\n"
      ],
      "metadata": {
        "colab": {
          "base_uri": "https://localhost:8080/"
        },
        "id": "Y3nftwHi7Sk3",
        "outputId": "74443997-b7cf-4f5d-a343-438451155110"
      },
      "execution_count": 76,
      "outputs": [
        {
          "output_type": "execute_result",
          "data": {
            "text/plain": [
              "Result with 18 solutions\n",
              "========================\n",
              "• 18 paths tracked\n",
              "• 18 non-singular solutions (4 real)\n",
              "• random_seed: 0x825e9e3a\n",
              "• start_system: :polyhedral\n"
            ]
          },
          "metadata": {},
          "execution_count": 76
        }
      ]
    },
    {
      "cell_type": "code",
      "source": [
        "real_solutions(result)"
      ],
      "metadata": {
        "colab": {
          "base_uri": "https://localhost:8080/"
        },
        "id": "N57eMf7WQf2k",
        "outputId": "bfbddf99-d65b-4499-dd9b-ce3f86018692"
      },
      "execution_count": 77,
      "outputs": [
        {
          "output_type": "execute_result",
          "data": {
            "text/plain": [
              "4-element Vector{Vector{Float64}}:\n",
              " [-0.93689796679633, 0.31228408173860106]\n",
              " [0.8209788924342627, -0.697132645948946]\n",
              " [-1.671421392838003, 0.6552051858720408]\n",
              " [0.8999179208471727, -1.2441827613422727]"
            ]
          },
          "metadata": {},
          "execution_count": 77
        }
      ]
    },
    {
      "cell_type": "markdown",
      "source": [
        "# Trivial Example:  0 solutions for 2 circles in 4D\n",
        "\n",
        "\n",
        "1.    A circle (x² + y² = 1) with parametric extensions u = x - x³, v = y - y³  \n",
        "2.   Same circle (x² + y² = 1) with different parametric extensions u = 2x² - 1,\n",
        "   v = 3y - 4y³\n",
        "\n",
        "\n",
        "\n",
        "\n"
      ],
      "metadata": {
        "id": "axsf9-U58oO1"
      }
    },
    {
      "cell_type": "code",
      "source": [
        "@var x y u v\n",
        "###Circle in 4 variables\n",
        "f_1 = [x^2 + y^2 - 1, u - x + x^3, v - y + y^3]\n",
        "###Trefoil in 4 variables\n",
        "g_1 = [x^2 + y^2 - 1, u - 2x^2 + 1, v - 3y + 4y^3]\n",
        "###Define and solve system.\n",
        "H_1 = System([f_1..., g_1...])\n",
        "result = solve(H_1)"
      ],
      "metadata": {
        "colab": {
          "base_uri": "https://localhost:8080/"
        },
        "id": "4aVWmmtN8nM4",
        "outputId": "7d39fdc6-0913-4f30-c192-68bc8acf1bca"
      },
      "execution_count": 81,
      "outputs": [
        {
          "output_type": "execute_result",
          "data": {
            "text/plain": [
              "Result with 0 solutions\n",
              "=======================\n",
              "• 9 paths tracked\n",
              "• 0 non-singular solutions (0 real)\n",
              "• 9 excess solutions\n",
              "• random_seed: 0xdb42c249\n",
              "• start_system: :polyhedral\n"
            ]
          },
          "metadata": {},
          "execution_count": 81
        }
      ]
    },
    {
      "cell_type": "markdown",
      "source": [
        "\n",
        "\n",
        "\n",
        "\n",
        "*   Even though both curves project to the unit circle when you look at just the (x,y) coordinates, their **(u,v) components follow completely different rules**\n",
        "*  While the curves intersect in the (x,y) projection, they **never occupy the same point in the full 4D (x,y,u,v) space**\n",
        "\n",
        "\n",
        "\n"
      ],
      "metadata": {
        "id": "a4ipkVIFPO_N"
      }
    },
    {
      "cell_type": "markdown",
      "source": [
        "# Circle and Ellipe\n",
        "Defines a symbolic polynomial system H(x, y, t) that linearly interpolates between the circle and the ellipse.\n",
        "\n",
        "At `t = 0, H(x, y, 0) = circle_eq`\n",
        "\n",
        "At `t = 1, H(x, y, 1) = ellipse_eq`\n",
        "\n",
        "This is a valid homotopy of length 1 in HomotopyContinuation.jl. We can now use it to:\n",
        "\n",
        "Solve for specific values of t\n",
        "\n",
        "Track solutions as t moves from 0 to 1"
      ],
      "metadata": {
        "id": "8kT57R7L5Jv8"
      }
    },
    {
      "cell_type": "code",
      "source": [
        "using HomotopyContinuation\n",
        "using DynamicPolynomials\n",
        "\n",
        "# Declare symbolic variables\n",
        "@polyvar x y t\n",
        "\n",
        "# Define parameters for the ellipse\n",
        "a = 2.0\n",
        "b = 1.0\n",
        "\n",
        "# Define start polynomial system (unit circle)\n",
        "circle_eq = x^2 + y^2 - 1\n",
        "\n",
        "# Define target polynomial system (ellipse)\n",
        "ellipse_eq = (x^2)/(a^2) + (y^2)/(b^2) - 1\n",
        "\n",
        "F_1 =  System([ellipse_eq, circle_eq])\n",
        "\n",
        "result = solve(F_1)\n"
      ],
      "metadata": {
        "colab": {
          "base_uri": "https://localhost:8080/"
        },
        "id": "V0TSbu1o4SUj",
        "outputId": "998dedb1-66bb-4d12-b217-97fe385c2955"
      },
      "execution_count": 117,
      "outputs": [
        {
          "output_type": "execute_result",
          "data": {
            "text/plain": [
              "Result with 2 solutions\n",
              "=======================\n",
              "• 4 paths tracked\n",
              "• 0 non-singular solutions (0 real)\n",
              "• 2 singular solutions (2 real)\n",
              "• random_seed: 0x9a9849d0\n",
              "• start_system: :polyhedral\n",
              "• multiplicity table of singular solutions:\n",
              "\u001b[2m╭\u001b[2m───────\u001b[2m┬\u001b[2m───────\u001b[2m┬\u001b[2m────────\u001b[2m┬\u001b[2m────────────\u001b[2m╮\n",
              "\u001b[2m│\u001b[22m mult. \u001b[2m│\u001b[22m total \u001b[2m│\u001b[22m # real \u001b[2m│\u001b[22m # non-real \u001b[2m│\n",
              "\u001b[2m├\u001b[2m───────\u001b[2m┼\u001b[2m───────\u001b[2m┼\u001b[2m────────\u001b[2m┼\u001b[2m────────────\u001b[2m┤\n",
              "\u001b[2m│   2   \u001b[2m│   2   \u001b[2m│   2    \u001b[2m│     0      \u001b[2m│\n",
              "\u001b[2m╰\u001b[2m───────\u001b[2m┴\u001b[2m───────\u001b[2m┴\u001b[2m────────\u001b[2m┴\u001b[2m────────────\u001b[2m╯\n"
            ]
          },
          "metadata": {},
          "execution_count": 117
        }
      ]
    },
    {
      "cell_type": "markdown",
      "source": [
        "The 2 real singular solutions occur because  of **intersection**:  The circle (radius 1) and the ellipse (semi-major axis a=2, semi-minor axis b=1) **intersect at exactly 2 points**. At these locations, the gradients of both curves are parallel (or one is zero).  At the intersection points, both curves have the same tangent line, meaning the system loses rank. The solver detects this as a singular solution  \n",
        "\n",
        "Since the ellipse has the same minor axis as the circle's radius (b=1) but a larger major axis (a=2), they intersect where the circle crosses the ellipse along the y-axis."
      ],
      "metadata": {
        "id": "vfu9Q5TaBKw7"
      }
    },
    {
      "cell_type": "markdown",
      "source": [
        "# By Explicit Start Solution"
      ],
      "metadata": {
        "id": "mNEul335iqCm"
      }
    },
    {
      "cell_type": "code",
      "source": [
        "using HomotopyContinuation\n",
        "using DynamicPolynomials\n",
        "using Plots\n",
        "\n",
        "# Declare symbolic variables\n",
        "@polyvar x y t\n",
        "\n",
        "# Define parameters for the ellipse\n",
        "a = 2.0\n",
        "b = 1.0\n",
        "\n",
        "# Define start polynomial system (circle)\n",
        "circle_eq = x^2 + y^2 - 1\n",
        "\n",
        "# Define target polynomial system (ellipse)\n",
        "ellipse_eq = (x^2)/(a^2) + (y^2)/(b^2) - 1\n",
        "\n",
        "F_2 =  System([ellipse_eq, circle_eq]; variables=[x,y])\n",
        "\n",
        "\n",
        "\n"
      ],
      "metadata": {
        "colab": {
          "base_uri": "https://localhost:8080/"
        },
        "id": "xUlSwMQzbCBJ",
        "outputId": "09dddbbc-9cf3-4fb5-b427-a7f2955b6e5d"
      },
      "execution_count": 197,
      "outputs": [
        {
          "output_type": "execute_result",
          "data": {
            "text/plain": [
              "System of length 2\n",
              " 2 variables: x, y\n",
              "\n",
              " -1.0 + 0.25*x^2 + 1.0*y^2\n",
              " -1.0 + 1.0*x^2 + 1.0*y^2"
            ]
          },
          "metadata": {},
          "execution_count": 197
        }
      ]
    },
    {
      "cell_type": "code",
      "metadata": {
        "colab": {
          "base_uri": "https://localhost:8080/"
        },
        "id": "3c-qCy5rcOaB",
        "outputId": "8491ccb7-a839-40ac-c892-473a3b0a472e"
      },
      "source": [
        "# Generate start solutions for the circle equation (parametrized unit circle)\n",
        "θ_vals = range(0, 2π, length=50)\n",
        "# Generate start solutions as a vector of standard Julia vectors\n",
        "start_solutions = [[cos(θ), sin(θ)] for θ in θ_vals]"
      ],
      "execution_count": 198,
      "outputs": [
        {
          "output_type": "execute_result",
          "data": {
            "text/plain": [
              "50-element Vector{Vector{Float64}}:\n",
              " [1.0, 0.0]\n",
              " [0.9917900138232462, 0.127877161684506]\n",
              " [0.9672948630390295, 0.25365458390950735]\n",
              " [0.9269167573460217, 0.3752670048793741]\n",
              " [0.8713187041233894, 0.49071755200393785]\n",
              " [0.8014136218679566, 0.598110530491216]\n",
              " [0.7183493500977276, 0.6956825506034864]\n",
              " [0.6234898018587336, 0.7818314824680298]\n",
              " [0.5183925683105252, 0.8551427630053461]\n",
              " [0.4047833431223938, 0.9144126230158125]\n",
              " [0.28452758663103245, 0.9586678530366606]\n",
              " [0.15959989503337932, 0.9871817834144501]\n",
              " [0.03205157757165533, 0.9994862162006879]\n",
              " ⋮\n",
              " [0.1595998950333793, -0.9871817834144502]\n",
              " [0.284527586631032, -0.9586678530366608]\n",
              " [0.4047833431223937, -0.9144126230158125]\n",
              " [0.5183925683105245, -0.8551427630053464]\n",
              " [0.6234898018587334, -0.7818314824680299]\n",
              " [0.7183493500977277, -0.6956825506034863]\n",
              " [0.8014136218679564, -0.5981105304912162]\n",
              " [0.8713187041233894, -0.49071755200393785]\n",
              " [0.9269167573460216, -0.3752670048793746]\n",
              " [0.9672948630390293, -0.2536545839095075]\n",
              " [0.991790013823246, -0.12787716168450664]\n",
              " [1.0, -2.4492935982947064e-16]"
            ]
          },
          "metadata": {},
          "execution_count": 198
        }
      ]
    },
    {
      "cell_type": "code",
      "source": [
        "solve(F_2, start_solutions)"
      ],
      "metadata": {
        "colab": {
          "base_uri": "https://localhost:8080/"
        },
        "id": "8gs5ucChheYF",
        "outputId": "1749a7a8-4fb8-42f1-db91-e29d5fcb39ec"
      },
      "execution_count": 199,
      "outputs": [
        {
          "output_type": "execute_result",
          "data": {
            "text/plain": [
              "Result with 2 solutions\n",
              "=======================\n",
              "• 4 paths tracked\n",
              "• 0 non-singular solutions (0 real)\n",
              "• 2 singular solutions (2 real)\n",
              "• random_seed: 0xfea3bcd1\n",
              "• start_system: :polyhedral\n",
              "• multiplicity table of singular solutions:\n",
              "\u001b[2m╭\u001b[2m───────\u001b[2m┬\u001b[2m───────\u001b[2m┬\u001b[2m────────\u001b[2m┬\u001b[2m────────────\u001b[2m╮\n",
              "\u001b[2m│\u001b[22m mult. \u001b[2m│\u001b[22m total \u001b[2m│\u001b[22m # real \u001b[2m│\u001b[22m # non-real \u001b[2m│\n",
              "\u001b[2m├\u001b[2m───────\u001b[2m┼\u001b[2m───────\u001b[2m┼\u001b[2m────────\u001b[2m┼\u001b[2m────────────\u001b[2m┤\n",
              "\u001b[2m│   2   \u001b[2m│   2   \u001b[2m│   2    \u001b[2m│     0      \u001b[2m│\n",
              "\u001b[2m╰\u001b[2m───────\u001b[2m┴\u001b[2m───────\u001b[2m┴\u001b[2m────────\u001b[2m┴\u001b[2m────────────\u001b[2m╯\n"
            ]
          },
          "metadata": {},
          "execution_count": 199
        }
      ]
    },
    {
      "cell_type": "markdown",
      "source": [
        "# Circle to Torus Homotopy Continuation\n",
        " Constructing a homotopy system between a torus and a circle requires some care because these shapes generally live in different dimensions.\n",
        "\n",
        "1.  A torus is a 2D surface embedded in 3D.  \n",
        "2.  A circle is a 1D curve in 2D.   \n",
        "\n",
        "So to construct a meaningful homotopy continuation between them we need to make the spaces compatible.  Let's view the torus and circle as surfaces in 3D, and deform one into the other via a homotopy in 3D space.  We use random affine constraint to ensure the system is solvable.   \n",
        "\n",
        "\n",
        "*   t = 0; circle in xy-plane, z = 0.\n",
        "*   t = 1; torus in 3D\n",
        "\n"
      ],
      "metadata": {
        "id": "He8dYTSuLqlJ"
      }
    },
    {
      "cell_type": "code",
      "source": [
        "using HomotopyContinuation\n",
        "using DynamicPolynomials\n",
        "\n",
        "@polyvar x y z t\n",
        "\n",
        "# Parametize Torus\n",
        "R = 2.0\n",
        "r = 1.0\n",
        "\n",
        "# Torus\n",
        "F_torus_poly = ((x^2 + y^2 + z^2 + R^2 - r^2)^2 - 4R^2 * (x^2 + y^2))\n",
        "\n",
        "# Circle embedded in 3D (in xy-plane at z = 0)\n",
        "F_circ = x^2 + y^2 - 1\n",
        "plane_eq = z\n",
        "\n",
        "\n",
        "\n",
        "# Define Homotopy\n",
        "H_1 = (1 - t) * F_circ + t * F_torus_poly\n",
        "H_2 = (1 - t) * plane_eq\n",
        "a, b, c, d = randn(4)\n",
        "H_3 = a*x + b*y + c*z + d\n",
        "l, m, n, k = randn(4)\n",
        "H_4 = l*x + m*y + n*z + k\n",
        "\n",
        "F_3 = System([H_1, H_2, H_3, H_4])\n",
        "\n"
      ],
      "metadata": {
        "colab": {
          "base_uri": "https://localhost:8080/"
        },
        "id": "5kpjMSgoGEZr",
        "outputId": "86fe6a13-f422-4ac9-f968-12f5bf4c2b6b"
      },
      "execution_count": 192,
      "outputs": [
        {
          "output_type": "execute_result",
          "data": {
            "text/plain": [
              "System of length 4\n",
              " 4 variables: x, y, z, t\n",
              "\n",
              " -1.0 + 10.0*t - 11.0*t*x^2 + 1.0*t*x^4 - 11.0*t*y^2 + 1.0*t*y^4 + 6.0*t*z^2 + 1.0*t*z^4 + 2.0*t*x^2*y^2 + 2.0*t*x^2*z^2 + 2.0*t*y^2*z^2 + 1.0*x^2 + 1.0*y^2\n",
              " 1.0*z - 1.0*t*z\n",
              " 0.669919728195185 - 1.1495865693437*x + 0.472906029671582*y - 0.404408342121351*z\n",
              " 0.72806350251845 + 0.167103381333705*x + 1.10180488816297*y - 0.127682297763651*z"
            ]
          },
          "metadata": {},
          "execution_count": 192
        }
      ]
    },
    {
      "cell_type": "code",
      "source": [
        "θ_vals = range(0, 2π, length=30)\n",
        "start_solutions2 = [[cos(θ), sin(θ), 0.0] for θ in θ_vals]\n",
        "println(\"Start solutions found: \", length(start_solutions))\n",
        "solve(F_3, start_solutions2)"
      ],
      "metadata": {
        "colab": {
          "base_uri": "https://localhost:8080/"
        },
        "id": "yuRDz_nnvAwa",
        "outputId": "8c3f3f6d-d7ef-4053-e9c7-0d18c4a76f9f"
      },
      "execution_count": 196,
      "outputs": [
        {
          "output_type": "stream",
          "name": "stdout",
          "text": [
            "Start solutions found: 30\n"
          ]
        },
        {
          "output_type": "execute_result",
          "data": {
            "text/plain": [
              "Result with 5 solutions\n",
              "=======================\n",
              "• 5 paths tracked\n",
              "• 5 non-singular solutions (1 real)\n",
              "• random_seed: 0xaf6fe582\n",
              "• start_system: :polyhedral\n"
            ]
          },
          "metadata": {},
          "execution_count": 196
        }
      ]
    },
    {
      "cell_type": "markdown",
      "source": [
        "Each point on the circle  moves to the torus surface.  However, the circle is a 1D manifold and the torus is a 2D manifold, so this homotopy only maps a 1D subset of the torus.   \n",
        "\n",
        "While a continuous map can be constructed that maps the circle into the torus, the circle cannot be continuously deformed to cover or be topologically equivalent to the torus.\n",
        "\n",
        "\n",
        "The homotopy construction [illustrates a continuous embedding of the circle that gradually takes the shape of a loop on the torus](https://claude.ai/public/artifacts/badbccd3-5ead-4f0d-a0e9-5829e18e36c0), or perhaps even a path that traces a portion of the torus's surface, rather than a deformation of the entire circle into the entire torus."
      ],
      "metadata": {
        "id": "JPdk6cOz3blZ"
      }
    },
    {
      "cell_type": "markdown",
      "source": [
        "[Visual](https://claude.ai/public/artifacts/e91eb648-2082-4021-a302-17bfa3a475ab) Implementation Details:\n",
        "\n",
        "* Marching Cubes Approach: Instead of parametric surfaces, it finds the zero set of the homotopy system using a threshold-based method\n",
        "* Gradient Normals: Computes surface normals using numerical gradients of the implicit function\n",
        "* Real-time Computation: The surface is recomputed for each t value, showing the actual algebraic deformation\n",
        "\n",
        "[Visual 2](https://claude.ai/public/artifacts/beb44113-3ad6-48cb-ba44-b5d4cb4e1a86)"
      ],
      "metadata": {
        "id": "BCrjLUTY8avU"
      }
    }
  ]
}