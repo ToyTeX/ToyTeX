{
  "nbformat": 4,
  "nbformat_minor": 0,
  "metadata": {
    "colab": {
      "provenance": []
    },
    "kernelspec": {
      "name": "python3",
      "display_name": "Python 3"
    },
    "language_info": {
      "name": "python"
    }
  },
  "cells": [
    {
      "cell_type": "code",
      "execution_count": null,
      "metadata": {
        "id": "qZHrmga9XBLy",
        "colab": {
          "base_uri": "https://localhost:8080/"
        },
        "outputId": "7d8f7804-fe6e-422c-9aeb-46b9d42ae743"
      },
      "outputs": [
        {
          "output_type": "stream",
          "name": "stdout",
          "text": [
            "Requirement already satisfied: opendatasets in /usr/local/lib/python3.10/dist-packages (0.1.22)\n",
            "Requirement already satisfied: tqdm in /usr/local/lib/python3.10/dist-packages (from opendatasets) (4.66.1)\n",
            "Requirement already satisfied: kaggle in /usr/local/lib/python3.10/dist-packages (from opendatasets) (1.5.16)\n",
            "Requirement already satisfied: click in /usr/local/lib/python3.10/dist-packages (from opendatasets) (8.1.7)\n",
            "Requirement already satisfied: six>=1.10 in /usr/local/lib/python3.10/dist-packages (from kaggle->opendatasets) (1.16.0)\n",
            "Requirement already satisfied: certifi in /usr/local/lib/python3.10/dist-packages (from kaggle->opendatasets) (2023.11.17)\n",
            "Requirement already satisfied: python-dateutil in /usr/local/lib/python3.10/dist-packages (from kaggle->opendatasets) (2.8.2)\n",
            "Requirement already satisfied: requests in /usr/local/lib/python3.10/dist-packages (from kaggle->opendatasets) (2.31.0)\n",
            "Requirement already satisfied: python-slugify in /usr/local/lib/python3.10/dist-packages (from kaggle->opendatasets) (8.0.1)\n",
            "Requirement already satisfied: urllib3 in /usr/local/lib/python3.10/dist-packages (from kaggle->opendatasets) (2.0.7)\n",
            "Requirement already satisfied: bleach in /usr/local/lib/python3.10/dist-packages (from kaggle->opendatasets) (6.1.0)\n",
            "Requirement already satisfied: webencodings in /usr/local/lib/python3.10/dist-packages (from bleach->kaggle->opendatasets) (0.5.1)\n",
            "Requirement already satisfied: text-unidecode>=1.3 in /usr/local/lib/python3.10/dist-packages (from python-slugify->kaggle->opendatasets) (1.3)\n",
            "Requirement already satisfied: charset-normalizer<4,>=2 in /usr/local/lib/python3.10/dist-packages (from requests->kaggle->opendatasets) (3.3.2)\n",
            "Requirement already satisfied: idna<4,>=2.5 in /usr/local/lib/python3.10/dist-packages (from requests->kaggle->opendatasets) (3.6)\n"
          ]
        }
      ],
      "source": [
        "!pip install opendatasets\n",
        "import opendatasets as od\n",
        "import numpy as np\n",
        "import pandas as pd\n",
        "%matplotlib inline\n",
        "import matplotlib.pyplot as plt\n",
        "import seaborn as sns"
      ]
    },
    {
      "cell_type": "markdown",
      "source": [
        "#Loading Kaggle Gamification in Education .csv"
      ],
      "metadata": {
        "id": "VHaAnAxJMcTX"
      }
    },
    {
      "cell_type": "code",
      "source": [
        "from google.colab import files\n",
        "files.upload()"
      ],
      "metadata": {
        "colab": {
          "base_uri": "https://localhost:8080/",
          "height": 128
        },
        "id": "R4hrtRYwdFWD",
        "outputId": "91595569-2c92-4f27-d904-18b5acb1f981"
      },
      "execution_count": null,
      "outputs": [
        {
          "output_type": "display_data",
          "data": {
            "text/plain": [
              "<IPython.core.display.HTML object>"
            ],
            "text/html": [
              "\n",
              "     <input type=\"file\" id=\"files-56bfca3d-2355-4595-a0bf-b9d83f5fca49\" name=\"files[]\" multiple disabled\n",
              "        style=\"border:none\" />\n",
              "     <output id=\"result-56bfca3d-2355-4595-a0bf-b9d83f5fca49\">\n",
              "      Upload widget is only available when the cell has been executed in the\n",
              "      current browser session. Please rerun this cell to enable.\n",
              "      </output>\n",
              "      <script>// Copyright 2017 Google LLC\n",
              "//\n",
              "// Licensed under the Apache License, Version 2.0 (the \"License\");\n",
              "// you may not use this file except in compliance with the License.\n",
              "// You may obtain a copy of the License at\n",
              "//\n",
              "//      http://www.apache.org/licenses/LICENSE-2.0\n",
              "//\n",
              "// Unless required by applicable law or agreed to in writing, software\n",
              "// distributed under the License is distributed on an \"AS IS\" BASIS,\n",
              "// WITHOUT WARRANTIES OR CONDITIONS OF ANY KIND, either express or implied.\n",
              "// See the License for the specific language governing permissions and\n",
              "// limitations under the License.\n",
              "\n",
              "/**\n",
              " * @fileoverview Helpers for google.colab Python module.\n",
              " */\n",
              "(function(scope) {\n",
              "function span(text, styleAttributes = {}) {\n",
              "  const element = document.createElement('span');\n",
              "  element.textContent = text;\n",
              "  for (const key of Object.keys(styleAttributes)) {\n",
              "    element.style[key] = styleAttributes[key];\n",
              "  }\n",
              "  return element;\n",
              "}\n",
              "\n",
              "// Max number of bytes which will be uploaded at a time.\n",
              "const MAX_PAYLOAD_SIZE = 100 * 1024;\n",
              "\n",
              "function _uploadFiles(inputId, outputId) {\n",
              "  const steps = uploadFilesStep(inputId, outputId);\n",
              "  const outputElement = document.getElementById(outputId);\n",
              "  // Cache steps on the outputElement to make it available for the next call\n",
              "  // to uploadFilesContinue from Python.\n",
              "  outputElement.steps = steps;\n",
              "\n",
              "  return _uploadFilesContinue(outputId);\n",
              "}\n",
              "\n",
              "// This is roughly an async generator (not supported in the browser yet),\n",
              "// where there are multiple asynchronous steps and the Python side is going\n",
              "// to poll for completion of each step.\n",
              "// This uses a Promise to block the python side on completion of each step,\n",
              "// then passes the result of the previous step as the input to the next step.\n",
              "function _uploadFilesContinue(outputId) {\n",
              "  const outputElement = document.getElementById(outputId);\n",
              "  const steps = outputElement.steps;\n",
              "\n",
              "  const next = steps.next(outputElement.lastPromiseValue);\n",
              "  return Promise.resolve(next.value.promise).then((value) => {\n",
              "    // Cache the last promise value to make it available to the next\n",
              "    // step of the generator.\n",
              "    outputElement.lastPromiseValue = value;\n",
              "    return next.value.response;\n",
              "  });\n",
              "}\n",
              "\n",
              "/**\n",
              " * Generator function which is called between each async step of the upload\n",
              " * process.\n",
              " * @param {string} inputId Element ID of the input file picker element.\n",
              " * @param {string} outputId Element ID of the output display.\n",
              " * @return {!Iterable<!Object>} Iterable of next steps.\n",
              " */\n",
              "function* uploadFilesStep(inputId, outputId) {\n",
              "  const inputElement = document.getElementById(inputId);\n",
              "  inputElement.disabled = false;\n",
              "\n",
              "  const outputElement = document.getElementById(outputId);\n",
              "  outputElement.innerHTML = '';\n",
              "\n",
              "  const pickedPromise = new Promise((resolve) => {\n",
              "    inputElement.addEventListener('change', (e) => {\n",
              "      resolve(e.target.files);\n",
              "    });\n",
              "  });\n",
              "\n",
              "  const cancel = document.createElement('button');\n",
              "  inputElement.parentElement.appendChild(cancel);\n",
              "  cancel.textContent = 'Cancel upload';\n",
              "  const cancelPromise = new Promise((resolve) => {\n",
              "    cancel.onclick = () => {\n",
              "      resolve(null);\n",
              "    };\n",
              "  });\n",
              "\n",
              "  // Wait for the user to pick the files.\n",
              "  const files = yield {\n",
              "    promise: Promise.race([pickedPromise, cancelPromise]),\n",
              "    response: {\n",
              "      action: 'starting',\n",
              "    }\n",
              "  };\n",
              "\n",
              "  cancel.remove();\n",
              "\n",
              "  // Disable the input element since further picks are not allowed.\n",
              "  inputElement.disabled = true;\n",
              "\n",
              "  if (!files) {\n",
              "    return {\n",
              "      response: {\n",
              "        action: 'complete',\n",
              "      }\n",
              "    };\n",
              "  }\n",
              "\n",
              "  for (const file of files) {\n",
              "    const li = document.createElement('li');\n",
              "    li.append(span(file.name, {fontWeight: 'bold'}));\n",
              "    li.append(span(\n",
              "        `(${file.type || 'n/a'}) - ${file.size} bytes, ` +\n",
              "        `last modified: ${\n",
              "            file.lastModifiedDate ? file.lastModifiedDate.toLocaleDateString() :\n",
              "                                    'n/a'} - `));\n",
              "    const percent = span('0% done');\n",
              "    li.appendChild(percent);\n",
              "\n",
              "    outputElement.appendChild(li);\n",
              "\n",
              "    const fileDataPromise = new Promise((resolve) => {\n",
              "      const reader = new FileReader();\n",
              "      reader.onload = (e) => {\n",
              "        resolve(e.target.result);\n",
              "      };\n",
              "      reader.readAsArrayBuffer(file);\n",
              "    });\n",
              "    // Wait for the data to be ready.\n",
              "    let fileData = yield {\n",
              "      promise: fileDataPromise,\n",
              "      response: {\n",
              "        action: 'continue',\n",
              "      }\n",
              "    };\n",
              "\n",
              "    // Use a chunked sending to avoid message size limits. See b/62115660.\n",
              "    let position = 0;\n",
              "    do {\n",
              "      const length = Math.min(fileData.byteLength - position, MAX_PAYLOAD_SIZE);\n",
              "      const chunk = new Uint8Array(fileData, position, length);\n",
              "      position += length;\n",
              "\n",
              "      const base64 = btoa(String.fromCharCode.apply(null, chunk));\n",
              "      yield {\n",
              "        response: {\n",
              "          action: 'append',\n",
              "          file: file.name,\n",
              "          data: base64,\n",
              "        },\n",
              "      };\n",
              "\n",
              "      let percentDone = fileData.byteLength === 0 ?\n",
              "          100 :\n",
              "          Math.round((position / fileData.byteLength) * 100);\n",
              "      percent.textContent = `${percentDone}% done`;\n",
              "\n",
              "    } while (position < fileData.byteLength);\n",
              "  }\n",
              "\n",
              "  // All done.\n",
              "  yield {\n",
              "    response: {\n",
              "      action: 'complete',\n",
              "    }\n",
              "  };\n",
              "}\n",
              "\n",
              "scope.google = scope.google || {};\n",
              "scope.google.colab = scope.google.colab || {};\n",
              "scope.google.colab._files = {\n",
              "  _uploadFiles,\n",
              "  _uploadFilesContinue,\n",
              "};\n",
              "})(self);\n",
              "</script> "
            ]
          },
          "metadata": {}
        },
        {
          "output_type": "stream",
          "name": "stdout",
          "text": [
            "Saving Students_gamification.csv to Students_gamification (1).csv\n"
          ]
        },
        {
          "output_type": "execute_result",
          "data": {
            "text/plain": [
              "{'Students_gamification (1).csv': b'\\xef\\xbb\\xbfStudent_ID,Practice_Exam,Final_Exam,User,Avg_Grade_Q1,Avg_Grade_Q2,Avg_Grade_Q3,Avg_Grade_Q4,Avg_Grade_Q5,Avg_Grade_Q6,No_access_Q1,No_access_Q2,No_access_Q3,No_access_Q4,No_access_Q5,No_access_Q6\\r\\n1046,9.33,7.98,1,6,10,10,10,0,8,1,1,1,1,0,1\\r\\n1048,2.89,6.49,0,0,0,0,0,0,0,0,0,0,0,0,0\\r\\n1050,7.67,6.9,1,9,10,10,10,10,10,1,1,1,1,1,1\\r\\n1052,4.97,7.69,1,6,9,5,4,9,4,2,2,2,1,1,2\\r\\n1054,3.89,7.78,1,9.33,10,10,10,10,10,12,1,1,1,1,1\\r\\n1056,4.75,6.02,1,7.67,8,9,10,6,6,3,2,2,2,2,2\\r\\n1058,,6.02,1,8,5,6.5,8,3,7,2,2,2,2,1,2\\r\\n1060,,3.98,0,0,0,0,0,0,0,0,0,0,0,0,0\\r\\n1062,,3.96,0,0,0,0,0,0,0,0,0,0,0,0,0\\r\\n1064,5.57,7.64,1,8.5,8,8,10,10,9.5,2,1,2,4,2,2\\r\\n1066,3.65,6.3,0,0,0,0,0,0,0,0,0,0,0,0,0\\r\\n1070,8.43,6.25,1,3,10,6,6.5,4,5,2,1,1,2,1,1\\r\\n1078,5,6.53,1,8.33,10,8,10,8,7.5,6,1,1,1,1,2\\r\\n1080,4.28,5.28,1,9.5,10,3,7,0,4,2,1,2,2,0,1\\r\\n1082,6.78,7.59,1,6,4,2,2,6,3,1,1,1,1,1,1\\r\\n1084,8.61,7.94,0,0,0,0,0,0,0,0,0,0,0,0,0\\r\\n1088,7.5,5.79,1,5.33,7,2,5,8,6,3,2,1,2,3,1\\r\\n1090,9.58,8.87,0,0,0,0,0,0,0,0,0,0,0,0,0\\r\\n1092,7.78,5.6,1,0,2,3,4,4,3.5,0,1,1,1,1,2\\r\\n1094,8.89,7.36,0,0,0,0,0,0,0,0,0,0,0,0,0\\r\\n1096,7.92,9.07,1,7.25,9,4.25,8,7.25,5,4,4,4,4,4,2\\r\\n1100,9.27,8.52,1,7,10,6.5,8,10,7,2,2,2,1,1,1\\r\\n1102,6.08,6.55,0,0,0,0,0,0,0,0,0,0,0,0,0\\r\\n1104,7.22,5.74,1,7,10,8,9,8,9,2,1,1,1,1,1\\r\\n1106,6.81,8.17,1,8,10,5,9,5.5,9,3,1,2,1,2,1\\r\\n1108,5.06,8.24,1,8,6,5,0,0,0,1,1,1,0,0,0\\r\\n1110,,3.98,0,0,0,0,0,0,0,0,0,0,0,0,0\\r\\n1112,6.67,7.01,0,0,0,0,0,0,0,0,0,0,0,0,0\\r\\n1114,8.33,9.24,1,9.67,8.67,5.5,9.33,8.33,5.67,3,3,4,3,3,3\\r\\n1116,4.46,6.3,0,0,0,0,0,0,0,0,0,0,0,0,0\\r\\n1118,5,7.36,1,8.67,8,3,3,5,7,3,3,1,1,2,2\\r\\n1120,0,7.59,0,0,0,0,0,0,0,0,0,0,0,0,0\\r\\n1122,5.87,6.94,1,3.67,6,2,6,4,6,3,1,1,1,1,1\\r\\n1124,7.5,9.72,1,6,0,0,0,0,0,1,0,0,0,0,0\\r\\n1126,,4.97,0,0,0,0,0,0,0,0,0,0,0,0,0\\r\\n1128,6.11,7.41,1,9,8,6,8,3,3,1,1,2,1,1,1\\r\\n1130,5.28,9.17,1,7,10,4,10,9,10,1,1,1,1,1,1\\r\\n1132,5.28,7.5,1,5,8,0,5,0,0,1,1,0,1,0,0\\r\\n1134,0,7.04,0,0,0,0,0,0,0,0,0,0,0,0,0\\r\\n1136,6.41,6.99,0,0,0,0,0,0,0,0,0,0,0,0,0\\r\\n1138,3.61,7.82,1,7,8,8,7,7,6,1,1,1,1,1,1\\r\\n1144,3.89,8.7,1,0,8,8,10,7,8,0,1,1,1,1,1\\r\\n1146,4.31,5.93,1,8,10,7,1,6,0,2,1,1,1,1,0\\r\\n1148,1.39,6.71,1,8.5,7.33,7.33,6.25,7.33,4.25,4,3,3,4,3,4\\r\\n1152,4.44,8.89,1,6,9,7,10,8,8,2,2,1,1,1,1\\r\\n1154,9.17,9.67,1,7,6,2,3,3.5,2,1,1,1,1,2,2\\r\\n1157,7.64,7.13,1,5,8,5.67,0,5,1,2,1,3,0,1,1\\r\\n1160,,7.22,0,0,0,0,0,0,0,0,0,0,0,0,0\\r\\n1163,3.57,5.37,0,0,0,0,0,0,0,0,0,0,0,0,0\\r\\n1166,2.98,5.83,1,2,7,3,1,4,5,2,2,1,1,2,1\\r\\n1169,3.47,4.72,0,0,0,0,0,0,0,0,0,0,0,0,0\\r\\n1172,8.19,9.03,1,7,6,5,8,6,9,1,1,1,1,1,1\\r\\n1175,0.97,6.85,0,0,0,0,0,0,0,0,0,0,0,0,0\\r\\n1178,6.67,5.28,1,5,5,2,7,8,3,2,2,1,1,1,1\\r\\n1181,,5.86,0,0,0,0,0,0,0,0,0,0,0,0,0\\r\\n1184,,5.93,1,5,4,2,1,1,2,2,1,2,1,1,1\\r\\n1187,5.96,8.69,1,6,7,7,8,2,8,3,2,1,1,1,1\\r\\n1190,10,8.7,0,0,0,0,0,0,0,0,0,0,0,0,0\\r\\n1196,3.47,6.2,1,5,6,6,9,3,8,1,1,1,1,2,1\\r\\n1202,2.52,5,1,9,6,4,5,4,5,1,1,1,1,1,1\\r\\n1205,5,7.87,1,5,10,3,9,7,7,2,1,1,1,1,1\\r\\n1208,7.22,3.98,0,0,0,0,0,0,0,0,0,0,0,0,0\\r\\n1211,7.81,8.06,1,9.33,9,9,10,9,9,3,4,4,2,3,3\\r\\n1214,,6.94,0,0,0,0,0,0,0,0,0,0,0,0,0\\r\\n1217,5.14,9.72,1,5,8,3.5,9,7,6,3,2,2,1,1,1\\r\\n1220,8.77,6.69,1,4,8,5,8,5,2,1,2,1,1,1,1\\r\\n1223,,5.74,0,0,0,0,0,0,0,0,0,0,0,0,0\\r\\n1226,,5.63,0,0,0,0,0,0,0,0,0,0,0,0,0\\r\\n1229,,6.2,1,7,10,6.5,9,8,4,1,1,2,2,2,1\\r\\n'}"
            ]
          },
          "metadata": {},
          "execution_count": 7
        }
      ]
    },
    {
      "cell_type": "code",
      "source": [
        "df = pd.read_csv('Students_gamification.csv')"
      ],
      "metadata": {
        "id": "i9h4rxWNIPwg"
      },
      "execution_count": null,
      "outputs": []
    },
    {
      "cell_type": "code",
      "source": [
        "df.info()"
      ],
      "metadata": {
        "id": "N8olSzqBMAbe",
        "colab": {
          "base_uri": "https://localhost:8080/"
        },
        "outputId": "f9fe242e-c427-4012-da62-a8d769e72ef9"
      },
      "execution_count": null,
      "outputs": [
        {
          "output_type": "stream",
          "name": "stdout",
          "text": [
            "<class 'pandas.core.frame.DataFrame'>\n",
            "RangeIndex: 69 entries, 0 to 68\n",
            "Data columns (total 16 columns):\n",
            " #   Column         Non-Null Count  Dtype  \n",
            "---  ------         --------------  -----  \n",
            " 0   Student_ID     69 non-null     int64  \n",
            " 1   Practice_Exam  57 non-null     float64\n",
            " 2   Final_Exam     69 non-null     float64\n",
            " 3   User           69 non-null     int64  \n",
            " 4   Avg_Grade_Q1   69 non-null     float64\n",
            " 5   Avg_Grade_Q2   69 non-null     float64\n",
            " 6   Avg_Grade_Q3   69 non-null     float64\n",
            " 7   Avg_Grade_Q4   69 non-null     float64\n",
            " 8   Avg_Grade_Q5   69 non-null     float64\n",
            " 9   Avg_Grade_Q6   69 non-null     float64\n",
            " 10  No_access_Q1   69 non-null     int64  \n",
            " 11  No_access_Q2   69 non-null     int64  \n",
            " 12  No_access_Q3   69 non-null     int64  \n",
            " 13  No_access_Q4   69 non-null     int64  \n",
            " 14  No_access_Q5   69 non-null     int64  \n",
            " 15  No_access_Q6   69 non-null     int64  \n",
            "dtypes: float64(8), int64(8)\n",
            "memory usage: 8.8 KB\n"
          ]
        }
      ]
    },
    {
      "cell_type": "markdown",
      "source": [
        "#Cleaning data"
      ],
      "metadata": {
        "id": "2rqP14E9Ms35"
      }
    },
    {
      "cell_type": "code",
      "source": [
        "print(\"Nulls\")\n",
        "print(\"=====\")\n",
        "print(df.isnull().sum())"
      ],
      "metadata": {
        "id": "leY0zaObMGaq",
        "colab": {
          "base_uri": "https://localhost:8080/"
        },
        "outputId": "be1adbb5-336b-423d-8d2a-aab586b18283"
      },
      "execution_count": null,
      "outputs": [
        {
          "output_type": "stream",
          "name": "stdout",
          "text": [
            "Nulls\n",
            "=====\n",
            "Student_ID        0\n",
            "Practice_Exam    12\n",
            "Final_Exam        0\n",
            "User              0\n",
            "Avg_Grade_Q1      0\n",
            "Avg_Grade_Q2      0\n",
            "Avg_Grade_Q3      0\n",
            "Avg_Grade_Q4      0\n",
            "Avg_Grade_Q5      0\n",
            "Avg_Grade_Q6      0\n",
            "No_access_Q1      0\n",
            "No_access_Q2      0\n",
            "No_access_Q3      0\n",
            "No_access_Q4      0\n",
            "No_access_Q5      0\n",
            "No_access_Q6      0\n",
            "dtype: int64\n"
          ]
        }
      ]
    },
    {
      "cell_type": "markdown",
      "source": [
        "#drop practice exam nulls"
      ],
      "metadata": {
        "id": "fwmya1eRp8oi"
      }
    },
    {
      "cell_type": "code",
      "source": [
        "df.fillna('Practice_Exam', inplace = True)\n",
        "print(df.isnull().sum())"
      ],
      "metadata": {
        "colab": {
          "base_uri": "https://localhost:8080/"
        },
        "id": "irlmUT5npOuK",
        "outputId": "c03022b0-fa9c-4151-c151-0a1b46c22f78"
      },
      "execution_count": null,
      "outputs": [
        {
          "output_type": "stream",
          "name": "stdout",
          "text": [
            "Student_ID       0\n",
            "Practice_Exam    0\n",
            "Final_Exam       0\n",
            "User             0\n",
            "Avg_Grade_Q1     0\n",
            "Avg_Grade_Q2     0\n",
            "Avg_Grade_Q3     0\n",
            "Avg_Grade_Q4     0\n",
            "Avg_Grade_Q5     0\n",
            "Avg_Grade_Q6     0\n",
            "No_access_Q1     0\n",
            "No_access_Q2     0\n",
            "No_access_Q3     0\n",
            "No_access_Q4     0\n",
            "No_access_Q5     0\n",
            "No_access_Q6     0\n",
            "dtype: int64\n"
          ]
        }
      ]
    },
    {
      "cell_type": "code",
      "source": [
        "print(\"0s\")\n",
        "print(\"==\")\n",
        "print(df.eq(0).sum())\n"
      ],
      "metadata": {
        "id": "qM8Xef_LMJ4B",
        "colab": {
          "base_uri": "https://localhost:8080/"
        },
        "outputId": "751a6463-2430-49b7-d994-562897149138"
      },
      "execution_count": null,
      "outputs": [
        {
          "output_type": "stream",
          "name": "stdout",
          "text": [
            "0s\n",
            "==\n",
            "Student_ID        0\n",
            "Practice_Exam     2\n",
            "Final_Exam        0\n",
            "User             25\n",
            "Avg_Grade_Q1     27\n",
            "Avg_Grade_Q2     26\n",
            "Avg_Grade_Q3     27\n",
            "Avg_Grade_Q4     28\n",
            "Avg_Grade_Q5     30\n",
            "Avg_Grade_Q6     29\n",
            "No_access_Q1     27\n",
            "No_access_Q2     26\n",
            "No_access_Q3     27\n",
            "No_access_Q4     28\n",
            "No_access_Q5     30\n",
            "No_access_Q6     29\n",
            "dtype: int64\n"
          ]
        }
      ]
    },
    {
      "cell_type": "markdown",
      "source": [
        "#Print correlating features"
      ],
      "metadata": {
        "id": "Oc2HoudovLvv"
      }
    },
    {
      "cell_type": "code",
      "source": [
        "corr = df.corr()\n",
        "print(corr)"
      ],
      "metadata": {
        "id": "3_NLc5YrO3Ck",
        "colab": {
          "base_uri": "https://localhost:8080/"
        },
        "outputId": "8f6cb56e-3c89-4691-a900-4e7d4e3f7dcd"
      },
      "execution_count": null,
      "outputs": [
        {
          "output_type": "stream",
          "name": "stdout",
          "text": [
            "              Student_ID  Final_Exam      User  Avg_Grade_Q1  Avg_Grade_Q2  \\\n",
            "Student_ID      1.000000    0.004429 -0.056476     -0.129650     -0.098056   \n",
            "Final_Exam      0.004429    1.000000  0.363367      0.345724      0.339948   \n",
            "User           -0.056476    0.363367  1.000000      0.860533      0.896904   \n",
            "Avg_Grade_Q1   -0.129650    0.345724  0.860533      1.000000      0.847672   \n",
            "Avg_Grade_Q2   -0.098056    0.339948  0.896904      0.847672      1.000000   \n",
            "Avg_Grade_Q3   -0.172488    0.277185  0.770665      0.770043      0.847909   \n",
            "Avg_Grade_Q4   -0.079139    0.350147  0.776694      0.737271      0.850443   \n",
            "Avg_Grade_Q5   -0.078061    0.325119  0.745581      0.708237      0.802734   \n",
            "Avg_Grade_Q6   -0.140574    0.347819  0.747850      0.707260      0.799182   \n",
            "No_access_Q1   -0.191414    0.224525  0.573874      0.643258      0.623599   \n",
            "No_access_Q2    0.015275    0.323666  0.732401      0.701960      0.712157   \n",
            "No_access_Q3   -0.022971    0.317235  0.701601      0.735081      0.708405   \n",
            "No_access_Q4   -0.144326    0.211064  0.666378      0.682370      0.669391   \n",
            "No_access_Q5    0.023170    0.268168  0.672523      0.649045      0.648402   \n",
            "No_access_Q6   -0.100028    0.262864  0.701000      0.697898      0.652360   \n",
            "\n",
            "              Avg_Grade_Q3  Avg_Grade_Q4  Avg_Grade_Q5  Avg_Grade_Q6  \\\n",
            "Student_ID       -0.172488     -0.079139     -0.078061     -0.140574   \n",
            "Final_Exam        0.277185      0.350147      0.325119      0.347819   \n",
            "User              0.770665      0.776694      0.745581      0.747850   \n",
            "Avg_Grade_Q1      0.770043      0.737271      0.708237      0.707260   \n",
            "Avg_Grade_Q2      0.847909      0.850443      0.802734      0.799182   \n",
            "Avg_Grade_Q3      1.000000      0.834926      0.753075      0.813780   \n",
            "Avg_Grade_Q4      0.834926      1.000000      0.781606      0.902750   \n",
            "Avg_Grade_Q5      0.753075      0.781606      1.000000      0.790755   \n",
            "Avg_Grade_Q6      0.813780      0.902750      0.790755      1.000000   \n",
            "No_access_Q1      0.594520      0.566047      0.614471      0.595105   \n",
            "No_access_Q2      0.615906      0.649635      0.697712      0.616862   \n",
            "No_access_Q3      0.655576      0.633708      0.671619      0.563720   \n",
            "No_access_Q4      0.612212      0.688400      0.661383      0.603909   \n",
            "No_access_Q5      0.568892      0.611559      0.731221      0.616786   \n",
            "No_access_Q6      0.662361      0.671279      0.703942      0.653092   \n",
            "\n",
            "              No_access_Q1  No_access_Q2  No_access_Q3  No_access_Q4  \\\n",
            "Student_ID       -0.191414      0.015275     -0.022971     -0.144326   \n",
            "Final_Exam        0.224525      0.323666      0.317235      0.211064   \n",
            "User              0.573874      0.732401      0.701601      0.666378   \n",
            "Avg_Grade_Q1      0.643258      0.701960      0.735081      0.682370   \n",
            "Avg_Grade_Q2      0.623599      0.712157      0.708405      0.669391   \n",
            "Avg_Grade_Q3      0.594520      0.615906      0.655576      0.612212   \n",
            "Avg_Grade_Q4      0.566047      0.649635      0.633708      0.688400   \n",
            "Avg_Grade_Q5      0.614471      0.697712      0.671619      0.661383   \n",
            "Avg_Grade_Q6      0.595105      0.616862      0.563720      0.603909   \n",
            "No_access_Q1      1.000000      0.557255      0.518386      0.507642   \n",
            "No_access_Q2      0.557255      1.000000      0.843342      0.769639   \n",
            "No_access_Q3      0.518386      0.843342      1.000000      0.795595   \n",
            "No_access_Q4      0.507642      0.769639      0.795595      1.000000   \n",
            "No_access_Q5      0.532868      0.851952      0.816124      0.833467   \n",
            "No_access_Q6      0.546030      0.833929      0.831179      0.826131   \n",
            "\n",
            "              No_access_Q5  No_access_Q6  \n",
            "Student_ID        0.023170     -0.100028  \n",
            "Final_Exam        0.268168      0.262864  \n",
            "User              0.672523      0.701000  \n",
            "Avg_Grade_Q1      0.649045      0.697898  \n",
            "Avg_Grade_Q2      0.648402      0.652360  \n",
            "Avg_Grade_Q3      0.568892      0.662361  \n",
            "Avg_Grade_Q4      0.611559      0.671279  \n",
            "Avg_Grade_Q5      0.731221      0.703942  \n",
            "Avg_Grade_Q6      0.616786      0.653092  \n",
            "No_access_Q1      0.532868      0.546030  \n",
            "No_access_Q2      0.851952      0.833929  \n",
            "No_access_Q3      0.816124      0.831179  \n",
            "No_access_Q4      0.833467      0.826131  \n",
            "No_access_Q5      1.000000      0.827177  \n",
            "No_access_Q6      0.827177      1.000000  \n"
          ]
        },
        {
          "output_type": "stream",
          "name": "stderr",
          "text": [
            "<ipython-input-14-add040053286>:1: FutureWarning: The default value of numeric_only in DataFrame.corr is deprecated. In a future version, it will default to False. Select only valid columns or specify the value of numeric_only to silence this warning.\n",
            "  corr = df.corr()\n"
          ]
        }
      ]
    },
    {
      "cell_type": "markdown",
      "source": [
        "#Show correlationb matrix"
      ],
      "metadata": {
        "id": "xrmFszRimtVm"
      }
    },
    {
      "cell_type": "code",
      "source": [
        "fig, ax = plt.subplots(figsize=(10, 10))\n",
        "cax = ax.matshow(corr,cmap='coolwarm', vmin=-1, vmax=1)\n",
        "fig.colorbar(cax)\n",
        "ticks = np.arange(0,len(df.columns),1)\n",
        "ax.set_xticks(ticks)\n",
        "ax.set_xticklabels(df.columns)\n",
        "plt.xticks(rotation = 90)\n",
        "ax.set_yticklabels(df.columns)\n",
        "ax.set_yticks(ticks)\n",
        "\n",
        "\n",
        "\n"
      ],
      "metadata": {
        "id": "80xY2eEIUotb",
        "colab": {
          "base_uri": "https://localhost:8080/",
          "height": 1000
        },
        "outputId": "603e8e3b-e8b8-4178-e78a-85a3e64579f3"
      },
      "execution_count": null,
      "outputs": [
        {
          "output_type": "stream",
          "name": "stderr",
          "text": [
            "<ipython-input-15-d094b1aa616a>:8: UserWarning: FixedFormatter should only be used together with FixedLocator\n",
            "  ax.set_yticklabels(df.columns)\n"
          ]
        },
        {
          "output_type": "execute_result",
          "data": {
            "text/plain": [
              "[<matplotlib.axis.YTick at 0x78d038f69390>,\n",
              " <matplotlib.axis.YTick at 0x78d038f68d30>,\n",
              " <matplotlib.axis.YTick at 0x78d03934fdc0>,\n",
              " <matplotlib.axis.YTick at 0x78d038e3d540>,\n",
              " <matplotlib.axis.YTick at 0x78d038e3dff0>,\n",
              " <matplotlib.axis.YTick at 0x78d038e3eaa0>,\n",
              " <matplotlib.axis.YTick at 0x78d038e3f550>,\n",
              " <matplotlib.axis.YTick at 0x78d038e3d990>,\n",
              " <matplotlib.axis.YTick at 0x78d038e3fe50>,\n",
              " <matplotlib.axis.YTick at 0x78d038e58940>,\n",
              " <matplotlib.axis.YTick at 0x78d038f685b0>,\n",
              " <matplotlib.axis.YTick at 0x78d038e59f30>,\n",
              " <matplotlib.axis.YTick at 0x78d038e59060>,\n",
              " <matplotlib.axis.YTick at 0x78d038e5a680>,\n",
              " <matplotlib.axis.YTick at 0x78d038e5b130>,\n",
              " <matplotlib.axis.YTick at 0x78d038e5bbe0>]"
            ]
          },
          "metadata": {},
          "execution_count": 15
        },
        {
          "output_type": "display_data",
          "data": {
            "text/plain": [
              "<Figure size 1000x1000 with 2 Axes>"
            ],
            "image/png": "[encoded data removed]"
          },
          "metadata": {}
        }
      ]
    },
    {
      "cell_type": "markdown",
      "source": [
        "#Show heatmap"
      ],
      "metadata": {
        "id": "G4B7eN4sMkF8"
      }
    },
    {
      "cell_type": "code",
      "source": [
        "sns.heatmap(df.corr(numeric_only = True))\n",
        "fig = plt.gcf()\n",
        "fig.set_size_inches(10,8)"
      ],
      "metadata": {
        "id": "JekOe0qWVVq0",
        "colab": {
          "base_uri": "https://localhost:8080/",
          "height": 770
        },
        "outputId": "0da1d992-719a-4a1b-d44d-3ef8ad05e06b"
      },
      "execution_count": null,
      "outputs": [
        {
          "output_type": "display_data",
          "data": {
            "text/plain": [
              "<Figure size 1000x800 with 2 Axes>"
            ],
            "image/png": "[encoded data removed]"
          },
          "metadata": {}
        }
      ]
    },
    {
      "cell_type": "markdown",
      "source": [
        "#Highest correlating features in regards to 'User':\n"
      ],
      "metadata": {
        "id": "MGRuKcXXX8WT"
      }
    },
    {
      "cell_type": "code",
      "source": [
        "\n",
        "print(df.corr(numeric_only = True).nlargest(4,'User').index)\n",
        "print(df.corr().nlargest(4, 'User').values[:,14])\n",
        "\n"
      ],
      "metadata": {
        "id": "ucIcjRSyV4hR",
        "colab": {
          "base_uri": "https://localhost:8080/"
        },
        "outputId": "a773d959-9d67-446c-9947-53505eb22ae5"
      },
      "execution_count": null,
      "outputs": [
        {
          "output_type": "stream",
          "name": "stdout",
          "text": [
            "Index(['User', 'Avg_Grade_Q2', 'Avg_Grade_Q1', 'Avg_Grade_Q4'], dtype='object')\n",
            "[0.70099964 0.65235988 0.69789817 0.67127942]\n"
          ]
        },
        {
          "output_type": "stream",
          "name": "stderr",
          "text": [
            "<ipython-input-17-5d5e9ff7b6ac>:2: FutureWarning: The default value of numeric_only in DataFrame.corr is deprecated. In a future version, it will default to False. Select only valid columns or specify the value of numeric_only to silence this warning.\n",
            "  print(df.corr().nlargest(4, 'User').values[:,14])\n"
          ]
        }
      ]
    },
    {
      "cell_type": "markdown",
      "source": [
        "#Scale data"
      ],
      "metadata": {
        "id": "SSNwPFnTnGHP"
      }
    },
    {
      "cell_type": "code",
      "source": [
        "from sklearn.preprocessing import StandardScaler\n",
        "data = [[0, 0], [0, 0], [1, 1], [1, 1]]\n",
        "scaler = StandardScaler()\n",
        "print(scaler.fit(data))\n"
      ],
      "metadata": {
        "colab": {
          "base_uri": "https://localhost:8080/"
        },
        "id": "f2yA-mcRdxPT",
        "outputId": "5e6c0ab6-9547-4fa0-f24f-2cedf6aacc1a"
      },
      "execution_count": null,
      "outputs": [
        {
          "output_type": "stream",
          "name": "stdout",
          "text": [
            "StandardScaler()\n"
          ]
        }
      ]
    },
    {
      "cell_type": "code",
      "source": [
        "from sklearn import linear_model\n",
        "from sklearn.model_selection import cross_val_score"
      ],
      "metadata": {
        "id": "G_CFJkOrZoni"
      },
      "execution_count": null,
      "outputs": []
    },
    {
      "cell_type": "markdown",
      "source": [
        "#Try Logistic Regression Model"
      ],
      "metadata": {
        "id": "9rMxrkknadbj"
      }
    },
    {
      "cell_type": "code",
      "source": [
        "X = df[['Avg_Grade_Q2', 'Avg_Grade_Q1', 'Avg_Grade_Q4']]\n",
        "y = df.iloc[:,14]\n",
        "log_regress = linear_model.LogisticRegression()\n",
        "\n"
      ],
      "metadata": {
        "id": "W8fbSHKuaBnU"
      },
      "execution_count": null,
      "outputs": []
    },
    {
      "cell_type": "code",
      "source": [
        "log_regress_score = cross_val_score(log_regress, X, y, cv=11,\n",
        "scoring='accuracy').mean()\n",
        "print(log_regress_score)"
      ],
      "metadata": {
        "id": "miCVvWqPbOk-",
        "colab": {
          "base_uri": "https://localhost:8080/"
        },
        "outputId": "1054d323-fe0c-438e-c609-c42bacea04a1"
      },
      "execution_count": null,
      "outputs": [
        {
          "output_type": "stream",
          "name": "stderr",
          "text": [
            "/usr/local/lib/python3.10/dist-packages/sklearn/model_selection/_split.py:700: UserWarning: The least populated class in y has only 1 members, which is less than n_splits=11.\n",
            "  warnings.warn(\n",
            "/usr/local/lib/python3.10/dist-packages/sklearn/linear_model/_logistic.py:458: ConvergenceWarning: lbfgs failed to converge (status=1):\n",
            "STOP: TOTAL NO. of ITERATIONS REACHED LIMIT.\n",
            "\n",
            "Increase the number of iterations (max_iter) or scale the data as shown in:\n",
            "    https://scikit-learn.org/stable/modules/preprocessing.html\n",
            "Please also refer to the documentation for alternative solver options:\n",
            "    https://scikit-learn.org/stable/modules/linear_model.html#logistic-regression\n",
            "  n_iter_i = _check_optimize_result(\n",
            "/usr/local/lib/python3.10/dist-packages/sklearn/linear_model/_logistic.py:458: ConvergenceWarning: lbfgs failed to converge (status=1):\n",
            "STOP: TOTAL NO. of ITERATIONS REACHED LIMIT.\n",
            "\n",
            "Increase the number of iterations (max_iter) or scale the data as shown in:\n",
            "    https://scikit-learn.org/stable/modules/preprocessing.html\n",
            "Please also refer to the documentation for alternative solver options:\n",
            "    https://scikit-learn.org/stable/modules/linear_model.html#logistic-regression\n",
            "  n_iter_i = _check_optimize_result(\n",
            "/usr/local/lib/python3.10/dist-packages/sklearn/linear_model/_logistic.py:458: ConvergenceWarning: lbfgs failed to converge (status=1):\n",
            "STOP: TOTAL NO. of ITERATIONS REACHED LIMIT.\n",
            "\n",
            "Increase the number of iterations (max_iter) or scale the data as shown in:\n",
            "    https://scikit-learn.org/stable/modules/preprocessing.html\n",
            "Please also refer to the documentation for alternative solver options:\n",
            "    https://scikit-learn.org/stable/modules/linear_model.html#logistic-regression\n",
            "  n_iter_i = _check_optimize_result(\n",
            "/usr/local/lib/python3.10/dist-packages/sklearn/linear_model/_logistic.py:458: ConvergenceWarning: lbfgs failed to converge (status=1):\n",
            "STOP: TOTAL NO. of ITERATIONS REACHED LIMIT.\n",
            "\n",
            "Increase the number of iterations (max_iter) or scale the data as shown in:\n",
            "    https://scikit-learn.org/stable/modules/preprocessing.html\n",
            "Please also refer to the documentation for alternative solver options:\n",
            "    https://scikit-learn.org/stable/modules/linear_model.html#logistic-regression\n",
            "  n_iter_i = _check_optimize_result(\n",
            "/usr/local/lib/python3.10/dist-packages/sklearn/linear_model/_logistic.py:458: ConvergenceWarning: lbfgs failed to converge (status=1):\n",
            "STOP: TOTAL NO. of ITERATIONS REACHED LIMIT.\n",
            "\n",
            "Increase the number of iterations (max_iter) or scale the data as shown in:\n",
            "    https://scikit-learn.org/stable/modules/preprocessing.html\n",
            "Please also refer to the documentation for alternative solver options:\n",
            "    https://scikit-learn.org/stable/modules/linear_model.html#logistic-regression\n",
            "  n_iter_i = _check_optimize_result(\n",
            "/usr/local/lib/python3.10/dist-packages/sklearn/linear_model/_logistic.py:458: ConvergenceWarning: lbfgs failed to converge (status=1):\n",
            "STOP: TOTAL NO. of ITERATIONS REACHED LIMIT.\n",
            "\n",
            "Increase the number of iterations (max_iter) or scale the data as shown in:\n",
            "    https://scikit-learn.org/stable/modules/preprocessing.html\n",
            "Please also refer to the documentation for alternative solver options:\n",
            "    https://scikit-learn.org/stable/modules/linear_model.html#logistic-regression\n",
            "  n_iter_i = _check_optimize_result(\n",
            "/usr/local/lib/python3.10/dist-packages/sklearn/linear_model/_logistic.py:458: ConvergenceWarning: lbfgs failed to converge (status=1):\n",
            "STOP: TOTAL NO. of ITERATIONS REACHED LIMIT.\n",
            "\n",
            "Increase the number of iterations (max_iter) or scale the data as shown in:\n",
            "    https://scikit-learn.org/stable/modules/preprocessing.html\n",
            "Please also refer to the documentation for alternative solver options:\n",
            "    https://scikit-learn.org/stable/modules/linear_model.html#logistic-regression\n",
            "  n_iter_i = _check_optimize_result(\n",
            "/usr/local/lib/python3.10/dist-packages/sklearn/linear_model/_logistic.py:458: ConvergenceWarning: lbfgs failed to converge (status=1):\n",
            "STOP: TOTAL NO. of ITERATIONS REACHED LIMIT.\n",
            "\n",
            "Increase the number of iterations (max_iter) or scale the data as shown in:\n",
            "    https://scikit-learn.org/stable/modules/preprocessing.html\n",
            "Please also refer to the documentation for alternative solver options:\n",
            "    https://scikit-learn.org/stable/modules/linear_model.html#logistic-regression\n",
            "  n_iter_i = _check_optimize_result(\n"
          ]
        },
        {
          "output_type": "stream",
          "name": "stdout",
          "text": [
            "0.6861471861471862\n"
          ]
        },
        {
          "output_type": "stream",
          "name": "stderr",
          "text": [
            "/usr/local/lib/python3.10/dist-packages/sklearn/linear_model/_logistic.py:458: ConvergenceWarning: lbfgs failed to converge (status=1):\n",
            "STOP: TOTAL NO. of ITERATIONS REACHED LIMIT.\n",
            "\n",
            "Increase the number of iterations (max_iter) or scale the data as shown in:\n",
            "    https://scikit-learn.org/stable/modules/preprocessing.html\n",
            "Please also refer to the documentation for alternative solver options:\n",
            "    https://scikit-learn.org/stable/modules/linear_model.html#logistic-regression\n",
            "  n_iter_i = _check_optimize_result(\n",
            "/usr/local/lib/python3.10/dist-packages/sklearn/linear_model/_logistic.py:458: ConvergenceWarning: lbfgs failed to converge (status=1):\n",
            "STOP: TOTAL NO. of ITERATIONS REACHED LIMIT.\n",
            "\n",
            "Increase the number of iterations (max_iter) or scale the data as shown in:\n",
            "    https://scikit-learn.org/stable/modules/preprocessing.html\n",
            "Please also refer to the documentation for alternative solver options:\n",
            "    https://scikit-learn.org/stable/modules/linear_model.html#logistic-regression\n",
            "  n_iter_i = _check_optimize_result(\n",
            "/usr/local/lib/python3.10/dist-packages/sklearn/linear_model/_logistic.py:458: ConvergenceWarning: lbfgs failed to converge (status=1):\n",
            "STOP: TOTAL NO. of ITERATIONS REACHED LIMIT.\n",
            "\n",
            "Increase the number of iterations (max_iter) or scale the data as shown in:\n",
            "    https://scikit-learn.org/stable/modules/preprocessing.html\n",
            "Please also refer to the documentation for alternative solver options:\n",
            "    https://scikit-learn.org/stable/modules/linear_model.html#logistic-regression\n",
            "  n_iter_i = _check_optimize_result(\n"
          ]
        }
      ]
    },
    {
      "cell_type": "code",
      "source": [
        "result = []\n",
        "result.append(log_regress_score)"
      ],
      "metadata": {
        "id": "6g7USFViR8xV"
      },
      "execution_count": null,
      "outputs": []
    },
    {
      "cell_type": "markdown",
      "source": [
        "#Try KNN"
      ],
      "metadata": {
        "id": "aSv-lv9Il4hs"
      }
    },
    {
      "cell_type": "code",
      "source": [
        "from sklearn.neighbors import KNeighborsClassifier\n",
        "cv_scores = []\n",
        "folds = 10\n",
        "ks = list(range(1,int(len(X) * ((folds - 1)/folds)), 2))"
      ],
      "metadata": {
        "id": "_4p-pweZl9JQ"
      },
      "execution_count": null,
      "outputs": []
    },
    {
      "cell_type": "markdown",
      "source": [
        "#Begin cross-validation"
      ],
      "metadata": {
        "id": "yo9k3Y3XmLxr"
      }
    },
    {
      "cell_type": "code",
      "source": [
        "ks = list(range(1,int(len(X) * ((folds - 1)/folds)), 2))\n",
        "for k in ks:\n",
        "    knn = KNeighborsClassifier(n_neighbors=k)\n",
        "    score = cross_val_score(knn, X, y, cv=folds, scoring='accuracy').mean()\n",
        "    cv_scores.append(score)\n",
        "knn_score = max(cv_scores)\n",
        "optimal_k = ks[cv_scores.index(knn_score)]\n",
        "print(f\"The optimal number of neighbors is {optimal_k}\")\n",
        "print(knn_score)\n",
        "result.append(knn_score)"
      ],
      "metadata": {
        "id": "q2QLqy9FmLOD",
        "colab": {
          "base_uri": "https://localhost:8080/"
        },
        "outputId": "5f6af90c-5156-474a-e51e-da237df1e21f"
      },
      "execution_count": null,
      "outputs": [
        {
          "output_type": "stream",
          "name": "stderr",
          "text": [
            "/usr/local/lib/python3.10/dist-packages/sklearn/model_selection/_split.py:700: UserWarning: The least populated class in y has only 1 members, which is less than n_splits=10.\n",
            "  warnings.warn(\n",
            "/usr/local/lib/python3.10/dist-packages/sklearn/model_selection/_split.py:700: UserWarning: The least populated class in y has only 1 members, which is less than n_splits=10.\n",
            "  warnings.warn(\n",
            "/usr/local/lib/python3.10/dist-packages/sklearn/model_selection/_split.py:700: UserWarning: The least populated class in y has only 1 members, which is less than n_splits=10.\n",
            "  warnings.warn(\n",
            "/usr/local/lib/python3.10/dist-packages/sklearn/model_selection/_split.py:700: UserWarning: The least populated class in y has only 1 members, which is less than n_splits=10.\n",
            "  warnings.warn(\n",
            "/usr/local/lib/python3.10/dist-packages/sklearn/model_selection/_split.py:700: UserWarning: The least populated class in y has only 1 members, which is less than n_splits=10.\n",
            "  warnings.warn(\n",
            "/usr/local/lib/python3.10/dist-packages/sklearn/model_selection/_split.py:700: UserWarning: The least populated class in y has only 1 members, which is less than n_splits=10.\n",
            "  warnings.warn(\n",
            "/usr/local/lib/python3.10/dist-packages/sklearn/model_selection/_split.py:700: UserWarning: The least populated class in y has only 1 members, which is less than n_splits=10.\n",
            "  warnings.warn(\n",
            "/usr/local/lib/python3.10/dist-packages/sklearn/model_selection/_split.py:700: UserWarning: The least populated class in y has only 1 members, which is less than n_splits=10.\n",
            "  warnings.warn(\n",
            "/usr/local/lib/python3.10/dist-packages/sklearn/model_selection/_split.py:700: UserWarning: The least populated class in y has only 1 members, which is less than n_splits=10.\n",
            "  warnings.warn(\n",
            "/usr/local/lib/python3.10/dist-packages/sklearn/model_selection/_split.py:700: UserWarning: The least populated class in y has only 1 members, which is less than n_splits=10.\n",
            "  warnings.warn(\n",
            "/usr/local/lib/python3.10/dist-packages/sklearn/model_selection/_split.py:700: UserWarning: The least populated class in y has only 1 members, which is less than n_splits=10.\n",
            "  warnings.warn(\n",
            "/usr/local/lib/python3.10/dist-packages/sklearn/model_selection/_split.py:700: UserWarning: The least populated class in y has only 1 members, which is less than n_splits=10.\n",
            "  warnings.warn(\n",
            "/usr/local/lib/python3.10/dist-packages/sklearn/model_selection/_split.py:700: UserWarning: The least populated class in y has only 1 members, which is less than n_splits=10.\n",
            "  warnings.warn(\n",
            "/usr/local/lib/python3.10/dist-packages/sklearn/model_selection/_split.py:700: UserWarning: The least populated class in y has only 1 members, which is less than n_splits=10.\n",
            "  warnings.warn(\n",
            "/usr/local/lib/python3.10/dist-packages/sklearn/model_selection/_split.py:700: UserWarning: The least populated class in y has only 1 members, which is less than n_splits=10.\n",
            "  warnings.warn(\n",
            "/usr/local/lib/python3.10/dist-packages/sklearn/model_selection/_split.py:700: UserWarning: The least populated class in y has only 1 members, which is less than n_splits=10.\n",
            "  warnings.warn(\n",
            "/usr/local/lib/python3.10/dist-packages/sklearn/model_selection/_split.py:700: UserWarning: The least populated class in y has only 1 members, which is less than n_splits=10.\n",
            "  warnings.warn(\n",
            "/usr/local/lib/python3.10/dist-packages/sklearn/model_selection/_split.py:700: UserWarning: The least populated class in y has only 1 members, which is less than n_splits=10.\n",
            "  warnings.warn(\n",
            "/usr/local/lib/python3.10/dist-packages/sklearn/model_selection/_split.py:700: UserWarning: The least populated class in y has only 1 members, which is less than n_splits=10.\n",
            "  warnings.warn(\n",
            "/usr/local/lib/python3.10/dist-packages/sklearn/model_selection/_split.py:700: UserWarning: The least populated class in y has only 1 members, which is less than n_splits=10.\n",
            "  warnings.warn(\n",
            "/usr/local/lib/python3.10/dist-packages/sklearn/model_selection/_split.py:700: UserWarning: The least populated class in y has only 1 members, which is less than n_splits=10.\n",
            "  warnings.warn(\n",
            "/usr/local/lib/python3.10/dist-packages/sklearn/model_selection/_split.py:700: UserWarning: The least populated class in y has only 1 members, which is less than n_splits=10.\n",
            "  warnings.warn(\n",
            "/usr/local/lib/python3.10/dist-packages/sklearn/model_selection/_split.py:700: UserWarning: The least populated class in y has only 1 members, which is less than n_splits=10.\n",
            "  warnings.warn(\n",
            "/usr/local/lib/python3.10/dist-packages/sklearn/model_selection/_split.py:700: UserWarning: The least populated class in y has only 1 members, which is less than n_splits=10.\n",
            "  warnings.warn(\n",
            "/usr/local/lib/python3.10/dist-packages/sklearn/model_selection/_split.py:700: UserWarning: The least populated class in y has only 1 members, which is less than n_splits=10.\n",
            "  warnings.warn(\n",
            "/usr/local/lib/python3.10/dist-packages/sklearn/model_selection/_split.py:700: UserWarning: The least populated class in y has only 1 members, which is less than n_splits=10.\n",
            "  warnings.warn(\n",
            "/usr/local/lib/python3.10/dist-packages/sklearn/model_selection/_split.py:700: UserWarning: The least populated class in y has only 1 members, which is less than n_splits=10.\n",
            "  warnings.warn(\n",
            "/usr/local/lib/python3.10/dist-packages/sklearn/model_selection/_split.py:700: UserWarning: The least populated class in y has only 1 members, which is less than n_splits=10.\n",
            "  warnings.warn(\n",
            "/usr/local/lib/python3.10/dist-packages/sklearn/model_selection/_split.py:700: UserWarning: The least populated class in y has only 1 members, which is less than n_splits=10.\n",
            "  warnings.warn(\n",
            "/usr/local/lib/python3.10/dist-packages/sklearn/model_selection/_split.py:700: UserWarning: The least populated class in y has only 1 members, which is less than n_splits=10.\n",
            "  warnings.warn(\n",
            "/usr/local/lib/python3.10/dist-packages/sklearn/model_selection/_split.py:700: UserWarning: The least populated class in y has only 1 members, which is less than n_splits=10.\n",
            "  warnings.warn(\n"
          ]
        },
        {
          "output_type": "stream",
          "name": "stdout",
          "text": [
            "The optimal number of neighbors is 11\n",
            "0.7404761904761905\n"
          ]
        }
      ]
    },
    {
      "cell_type": "markdown",
      "source": [
        "#Try SVM"
      ],
      "metadata": {
        "id": "EWyJi2Bhm05a"
      }
    },
    {
      "cell_type": "code",
      "source": [
        "from sklearn import svm"
      ],
      "metadata": {
        "id": "e37zQ9NMmynt"
      },
      "execution_count": null,
      "outputs": []
    },
    {
      "cell_type": "markdown",
      "source": [
        "#linear kernel"
      ],
      "metadata": {
        "id": "m7Tf7oDJm-11"
      }
    },
    {
      "cell_type": "code",
      "source": [
        "linear_svm = svm.SVC(kernel='linear')\n",
        "linear_svm_score = cross_val_score(linear_svm, X, y,\n",
        "                                   cv=10, scoring='accuracy').mean()\n",
        "print(linear_svm_score)\n",
        "result.append(linear_svm_score)"
      ],
      "metadata": {
        "id": "_5j6EOAonFxv",
        "colab": {
          "base_uri": "https://localhost:8080/"
        },
        "outputId": "52f109ae-b6d1-442a-9fd0-d84115d4a9fa"
      },
      "execution_count": null,
      "outputs": [
        {
          "output_type": "stream",
          "name": "stderr",
          "text": [
            "/usr/local/lib/python3.10/dist-packages/sklearn/model_selection/_split.py:700: UserWarning: The least populated class in y has only 1 members, which is less than n_splits=10.\n",
            "  warnings.warn(\n"
          ]
        },
        {
          "output_type": "stream",
          "name": "stdout",
          "text": [
            "0.6976190476190476\n"
          ]
        }
      ]
    },
    {
      "cell_type": "markdown",
      "source": [
        "#rbf kernel"
      ],
      "metadata": {
        "id": "SmTmVz0knVVl"
      }
    },
    {
      "cell_type": "code",
      "source": [
        "rbf = svm.SVC(kernel='rbf')\n",
        "rbf_score = cross_val_score(rbf, X, y, cv=10, scoring='accuracy').mean()\n",
        "print(rbf_score)\n",
        "result.append(rbf_score)"
      ],
      "metadata": {
        "id": "eNyPH5d1nUNj",
        "colab": {
          "base_uri": "https://localhost:8080/"
        },
        "outputId": "a528dd2e-a935-475f-9dd9-d6cad837acb3"
      },
      "execution_count": null,
      "outputs": [
        {
          "output_type": "stream",
          "name": "stdout",
          "text": [
            "0.726190476190476\n"
          ]
        },
        {
          "output_type": "stream",
          "name": "stderr",
          "text": [
            "/usr/local/lib/python3.10/dist-packages/sklearn/model_selection/_split.py:700: UserWarning: The least populated class in y has only 1 members, which is less than n_splits=10.\n",
            "  warnings.warn(\n"
          ]
        }
      ]
    },
    {
      "cell_type": "markdown",
      "source": [
        "#Assess accuracy of algorithmic models"
      ],
      "metadata": {
        "id": "4O58nKLonfhy"
      }
    },
    {
      "cell_type": "code",
      "source": [
        "algorithms = [\"Logistic Regression\", \"K Nearest Neighbors\", \"SVM Linear Kernel\", \"SVM RBF Kernel\"]\n",
        "cv_mean = pd.DataFrame(result,index = algorithms)\n",
        "cv_mean.columns=[\"Accuracy\"]\n",
        "cv_mean.sort_values(by=\"Accuracy\",ascending=False)"
      ],
      "metadata": {
        "id": "aNmzzoVPnZMa",
        "colab": {
          "base_uri": "https://localhost:8080/",
          "height": 174
        },
        "outputId": "abe2969f-2d6f-4024-c5e9-961e082ccb82"
      },
      "execution_count": null,
      "outputs": [
        {
          "output_type": "execute_result",
          "data": {
            "text/plain": [
              "                     Accuracy\n",
              "K Nearest Neighbors  0.740476\n",
              "SVM RBF Kernel       0.726190\n",
              "SVM Linear Kernel    0.697619\n",
              "Logistic Regression  0.686147"
            ],
            "text/html": [
              "\n",
              "  <div id=\"df-a5e7070c-e49b-4fd8-ad01-cb752d99ab59\" class=\"colab-df-container\">\n",
              "    <div>\n",
              "<style scoped>\n",
              "    .dataframe tbody tr th:only-of-type {\n",
              "        vertical-align: middle;\n",
              "    }\n",
              "\n",
              "    .dataframe tbody tr th {\n",
              "        vertical-align: top;\n",
              "    }\n",
              "\n",
              "    .dataframe thead th {\n",
              "        text-align: right;\n",
              "    }\n",
              "</style>\n",
              "<table border=\"1\" class=\"dataframe\">\n",
              "  <thead>\n",
              "    <tr style=\"text-align: right;\">\n",
              "      <th></th>\n",
              "      <th>Accuracy</th>\n",
              "    </tr>\n",
              "  </thead>\n",
              "  <tbody>\n",
              "    <tr>\n",
              "      <th>K Nearest Neighbors</th>\n",
              "      <td>0.740476</td>\n",
              "    </tr>\n",
              "    <tr>\n",
              "      <th>SVM RBF Kernel</th>\n",
              "      <td>0.726190</td>\n",
              "    </tr>\n",
              "    <tr>\n",
              "      <th>SVM Linear Kernel</th>\n",
              "      <td>0.697619</td>\n",
              "    </tr>\n",
              "    <tr>\n",
              "      <th>Logistic Regression</th>\n",
              "      <td>0.686147</td>\n",
              "    </tr>\n",
              "  </tbody>\n",
              "</table>\n",
              "</div>\n",
              "    <div class=\"colab-df-buttons\">\n",
              "\n",
              "  <div class=\"colab-df-container\">\n",
              "    <button class=\"colab-df-convert\" onclick=\"convertToInteractive('df-a5e7070c-e49b-4fd8-ad01-cb752d99ab59')\"\n",
              "            title=\"Convert this dataframe to an interactive table.\"\n",
              "            style=\"display:none;\">\n",
              "\n",
              "  <svg xmlns=\"http://www.w3.org/2000/svg\" height=\"24px\" viewBox=\"0 -960 960 960\">\n",
              "    <path d=\"M120-120v-720h720v720H120Zm60-500h600v-160H180v160Zm220 220h160v-160H400v160Zm0 220h160v-160H400v160ZM180-400h160v-160H180v160Zm440 0h160v-160H620v160ZM180-180h160v-160H180v160Zm440 0h160v-160H620v160Z\"/>\n",
              "  </svg>\n",
              "    </button>\n",
              "\n",
              "  <style>\n",
              "    .colab-df-container {\n",
              "      display:flex;\n",
              "      gap: 12px;\n",
              "    }\n",
              "\n",
              "    .colab-df-convert {\n",
              "      background-color: #E8F0FE;\n",
              "      border: none;\n",
              "      border-radius: 50%;\n",
              "      cursor: pointer;\n",
              "      display: none;\n",
              "      fill: #1967D2;\n",
              "      height: 32px;\n",
              "      padding: 0 0 0 0;\n",
              "      width: 32px;\n",
              "    }\n",
              "\n",
              "    .colab-df-convert:hover {\n",
              "      background-color: #E2EBFA;\n",
              "      box-shadow: 0px 1px 2px rgba(60, 64, 67, 0.3), 0px 1px 3px 1px rgba(60, 64, 67, 0.15);\n",
              "      fill: #174EA6;\n",
              "    }\n",
              "\n",
              "    .colab-df-buttons div {\n",
              "      margin-bottom: 4px;\n",
              "    }\n",
              "\n",
              "    [theme=dark] .colab-df-convert {\n",
              "      background-color: #3B4455;\n",
              "      fill: #D2E3FC;\n",
              "    }\n",
              "\n",
              "    [theme=dark] .colab-df-convert:hover {\n",
              "      background-color: #434B5C;\n",
              "      box-shadow: 0px 1px 3px 1px rgba(0, 0, 0, 0.15);\n",
              "      filter: drop-shadow(0px 1px 2px rgba(0, 0, 0, 0.3));\n",
              "      fill: #FFFFFF;\n",
              "    }\n",
              "  </style>\n",
              "\n",
              "    <script>\n",
              "      const buttonEl =\n",
              "        document.querySelector('#df-a5e7070c-e49b-4fd8-ad01-cb752d99ab59 button.colab-df-convert');\n",
              "      buttonEl.style.display =\n",
              "        google.colab.kernel.accessAllowed ? 'block' : 'none';\n",
              "\n",
              "      async function convertToInteractive(key) {\n",
              "        const element = document.querySelector('#df-a5e7070c-e49b-4fd8-ad01-cb752d99ab59');\n",
              "        const dataTable =\n",
              "          await google.colab.kernel.invokeFunction('convertToInteractive',\n",
              "                                                    [key], {});\n",
              "        if (!dataTable) return;\n",
              "\n",
              "        const docLinkHtml = 'Like what you see? Visit the ' +\n",
              "          '<a target=\"_blank\" href=https://colab.research.google.com/notebooks/data_table.ipynb>data table notebook</a>'\n",
              "          + ' to learn more about interactive tables.';\n",
              "        element.innerHTML = '';\n",
              "        dataTable['output_type'] = 'display_data';\n",
              "        await google.colab.output.renderOutput(dataTable, element);\n",
              "        const docLink = document.createElement('div');\n",
              "        docLink.innerHTML = docLinkHtml;\n",
              "        element.appendChild(docLink);\n",
              "      }\n",
              "    </script>\n",
              "  </div>\n",
              "\n",
              "\n",
              "<div id=\"df-58f885bc-ffdb-4d92-9c51-ca0356c1dca1\">\n",
              "  <button class=\"colab-df-quickchart\" onclick=\"quickchart('df-58f885bc-ffdb-4d92-9c51-ca0356c1dca1')\"\n",
              "            title=\"Suggest charts\"\n",
              "            style=\"display:none;\">\n",
              "\n",
              "<svg xmlns=\"http://www.w3.org/2000/svg\" height=\"24px\"viewBox=\"0 0 24 24\"\n",
              "     width=\"24px\">\n",
              "    <g>\n",
              "        <path d=\"M19 3H5c-1.1 0-2 .9-2 2v14c0 1.1.9 2 2 2h14c1.1 0 2-.9 2-2V5c0-1.1-.9-2-2-2zM9 17H7v-7h2v7zm4 0h-2V7h2v10zm4 0h-2v-4h2v4z\"/>\n",
              "    </g>\n",
              "</svg>\n",
              "  </button>\n",
              "\n",
              "<style>\n",
              "  .colab-df-quickchart {\n",
              "      --bg-color: #E8F0FE;\n",
              "      --fill-color: #1967D2;\n",
              "      --hover-bg-color: #E2EBFA;\n",
              "      --hover-fill-color: #174EA6;\n",
              "      --disabled-fill-color: #AAA;\n",
              "      --disabled-bg-color: #DDD;\n",
              "  }\n",
              "\n",
              "  [theme=dark] .colab-df-quickchart {\n",
              "      --bg-color: #3B4455;\n",
              "      --fill-color: #D2E3FC;\n",
              "      --hover-bg-color: #434B5C;\n",
              "      --hover-fill-color: #FFFFFF;\n",
              "      --disabled-bg-color: #3B4455;\n",
              "      --disabled-fill-color: #666;\n",
              "  }\n",
              "\n",
              "  .colab-df-quickchart {\n",
              "    background-color: var(--bg-color);\n",
              "    border: none;\n",
              "    border-radius: 50%;\n",
              "    cursor: pointer;\n",
              "    display: none;\n",
              "    fill: var(--fill-color);\n",
              "    height: 32px;\n",
              "    padding: 0;\n",
              "    width: 32px;\n",
              "  }\n",
              "\n",
              "  .colab-df-quickchart:hover {\n",
              "    background-color: var(--hover-bg-color);\n",
              "    box-shadow: 0 1px 2px rgba(60, 64, 67, 0.3), 0 1px 3px 1px rgba(60, 64, 67, 0.15);\n",
              "    fill: var(--button-hover-fill-color);\n",
              "  }\n",
              "\n",
              "  .colab-df-quickchart-complete:disabled,\n",
              "  .colab-df-quickchart-complete:disabled:hover {\n",
              "    background-color: var(--disabled-bg-color);\n",
              "    fill: var(--disabled-fill-color);\n",
              "    box-shadow: none;\n",
              "  }\n",
              "\n",
              "  .colab-df-spinner {\n",
              "    border: 2px solid var(--fill-color);\n",
              "    border-color: transparent;\n",
              "    border-bottom-color: var(--fill-color);\n",
              "    animation:\n",
              "      spin 1s steps(1) infinite;\n",
              "  }\n",
              "\n",
              "  @keyframes spin {\n",
              "    0% {\n",
              "      border-color: transparent;\n",
              "      border-bottom-color: var(--fill-color);\n",
              "      border-left-color: var(--fill-color);\n",
              "    }\n",
              "    20% {\n",
              "      border-color: transparent;\n",
              "      border-left-color: var(--fill-color);\n",
              "      border-top-color: var(--fill-color);\n",
              "    }\n",
              "    30% {\n",
              "      border-color: transparent;\n",
              "      border-left-color: var(--fill-color);\n",
              "      border-top-color: var(--fill-color);\n",
              "      border-right-color: var(--fill-color);\n",
              "    }\n",
              "    40% {\n",
              "      border-color: transparent;\n",
              "      border-right-color: var(--fill-color);\n",
              "      border-top-color: var(--fill-color);\n",
              "    }\n",
              "    60% {\n",
              "      border-color: transparent;\n",
              "      border-right-color: var(--fill-color);\n",
              "    }\n",
              "    80% {\n",
              "      border-color: transparent;\n",
              "      border-right-color: var(--fill-color);\n",
              "      border-bottom-color: var(--fill-color);\n",
              "    }\n",
              "    90% {\n",
              "      border-color: transparent;\n",
              "      border-bottom-color: var(--fill-color);\n",
              "    }\n",
              "  }\n",
              "</style>\n",
              "\n",
              "  <script>\n",
              "    async function quickchart(key) {\n",
              "      const quickchartButtonEl =\n",
              "        document.querySelector('#' + key + ' button');\n",
              "      quickchartButtonEl.disabled = true;  // To prevent multiple clicks.\n",
              "      quickchartButtonEl.classList.add('colab-df-spinner');\n",
              "      try {\n",
              "        const charts = await google.colab.kernel.invokeFunction(\n",
              "            'suggestCharts', [key], {});\n",
              "      } catch (error) {\n",
              "        console.error('Error during call to suggestCharts:', error);\n",
              "      }\n",
              "      quickchartButtonEl.classList.remove('colab-df-spinner');\n",
              "      quickchartButtonEl.classList.add('colab-df-quickchart-complete');\n",
              "    }\n",
              "    (() => {\n",
              "      let quickchartButtonEl =\n",
              "        document.querySelector('#df-58f885bc-ffdb-4d92-9c51-ca0356c1dca1 button');\n",
              "      quickchartButtonEl.style.display =\n",
              "        google.colab.kernel.accessAllowed ? 'block' : 'none';\n",
              "    })();\n",
              "  </script>\n",
              "</div>\n",
              "    </div>\n",
              "  </div>\n"
            ]
          },
          "metadata": {},
          "execution_count": 28
        }
      ]
    },
    {
      "cell_type": "markdown",
      "source": [
        "#Fit KNN model"
      ],
      "metadata": {
        "id": "-95uz1aJgeaF"
      }
    },
    {
      "cell_type": "code",
      "source": [
        "knn = KNeighborsClassifier(n_neighbors=19)\n",
        "knn.fit(X, y)"
      ],
      "metadata": {
        "colab": {
          "base_uri": "https://localhost:8080/",
          "height": 74
        },
        "id": "Dw2tHurDVbX0",
        "outputId": "84917c7b-d027-460f-bae4-6f0a0be8ce43"
      },
      "execution_count": null,
      "outputs": [
        {
          "output_type": "execute_result",
          "data": {
            "text/plain": [
              "KNeighborsClassifier(n_neighbors=19)"
            ],
            "text/html": [
              "<style>#sk-container-id-1 {color: black;background-color: white;}#sk-container-id-1 pre{padding: 0;}#sk-container-id-1 div.sk-toggleable {background-color: white;}#sk-container-id-1 label.sk-toggleable__label {cursor: pointer;display: block;width: 100%;margin-bottom: 0;padding: 0.3em;box-sizing: border-box;text-align: center;}#sk-container-id-1 label.sk-toggleable__label-arrow:before {content: \"▸\";float: left;margin-right: 0.25em;color: #696969;}#sk-container-id-1 label.sk-toggleable__label-arrow:hover:before {color: black;}#sk-container-id-1 div.sk-estimator:hover label.sk-toggleable__label-arrow:before {color: black;}#sk-container-id-1 div.sk-toggleable__content {max-height: 0;max-width: 0;overflow: hidden;text-align: left;background-color: #f0f8ff;}#sk-container-id-1 div.sk-toggleable__content pre {margin: 0.2em;color: black;border-radius: 0.25em;background-color: #f0f8ff;}#sk-container-id-1 input.sk-toggleable__control:checked~div.sk-toggleable__content {max-height: 200px;max-width: 100%;overflow: auto;}#sk-container-id-1 input.sk-toggleable__control:checked~label.sk-toggleable__label-arrow:before {content: \"▾\";}#sk-container-id-1 div.sk-estimator input.sk-toggleable__control:checked~label.sk-toggleable__label {background-color: #d4ebff;}#sk-container-id-1 div.sk-label input.sk-toggleable__control:checked~label.sk-toggleable__label {background-color: #d4ebff;}#sk-container-id-1 input.sk-hidden--visually {border: 0;clip: rect(1px 1px 1px 1px);clip: rect(1px, 1px, 1px, 1px);height: 1px;margin: -1px;overflow: hidden;padding: 0;position: absolute;width: 1px;}#sk-container-id-1 div.sk-estimator {font-family: monospace;background-color: #f0f8ff;border: 1px dotted black;border-radius: 0.25em;box-sizing: border-box;margin-bottom: 0.5em;}#sk-container-id-1 div.sk-estimator:hover {background-color: #d4ebff;}#sk-container-id-1 div.sk-parallel-item::after {content: \"\";width: 100%;border-bottom: 1px solid gray;flex-grow: 1;}#sk-container-id-1 div.sk-label:hover label.sk-toggleable__label {background-color: #d4ebff;}#sk-container-id-1 div.sk-serial::before {content: \"\";position: absolute;border-left: 1px solid gray;box-sizing: border-box;top: 0;bottom: 0;left: 50%;z-index: 0;}#sk-container-id-1 div.sk-serial {display: flex;flex-direction: column;align-items: center;background-color: white;padding-right: 0.2em;padding-left: 0.2em;position: relative;}#sk-container-id-1 div.sk-item {position: relative;z-index: 1;}#sk-container-id-1 div.sk-parallel {display: flex;align-items: stretch;justify-content: center;background-color: white;position: relative;}#sk-container-id-1 div.sk-item::before, #sk-container-id-1 div.sk-parallel-item::before {content: \"\";position: absolute;border-left: 1px solid gray;box-sizing: border-box;top: 0;bottom: 0;left: 50%;z-index: -1;}#sk-container-id-1 div.sk-parallel-item {display: flex;flex-direction: column;z-index: 1;position: relative;background-color: white;}#sk-container-id-1 div.sk-parallel-item:first-child::after {align-self: flex-end;width: 50%;}#sk-container-id-1 div.sk-parallel-item:last-child::after {align-self: flex-start;width: 50%;}#sk-container-id-1 div.sk-parallel-item:only-child::after {width: 0;}#sk-container-id-1 div.sk-dashed-wrapped {border: 1px dashed gray;margin: 0 0.4em 0.5em 0.4em;box-sizing: border-box;padding-bottom: 0.4em;background-color: white;}#sk-container-id-1 div.sk-label label {font-family: monospace;font-weight: bold;display: inline-block;line-height: 1.2em;}#sk-container-id-1 div.sk-label-container {text-align: center;}#sk-container-id-1 div.sk-container {/* jupyter's `normalize.less` sets `[hidden] { display: none; }` but bootstrap.min.css set `[hidden] { display: none !important; }` so we also need the `!important` here to be able to override the default hidden behavior on the sphinx rendered scikit-learn.org. See: https://github.com/scikit-learn/scikit-learn/issues/21755 */display: inline-block !important;position: relative;}#sk-container-id-1 div.sk-text-repr-fallback {display: none;}</style><div id=\"sk-container-id-1\" class=\"sk-top-container\"><div class=\"sk-text-repr-fallback\"><pre>KNeighborsClassifier(n_neighbors=19)</pre><b>In a Jupyter environment, please rerun this cell to show the HTML representation or trust the notebook. <br />On GitHub, the HTML representation is unable to render, please try loading this page with nbviewer.org.</b></div><div class=\"sk-container\" hidden><div class=\"sk-item\"><div class=\"sk-estimator sk-toggleable\"><input class=\"sk-toggleable__control sk-hidden--visually\" id=\"sk-estimator-id-1\" type=\"checkbox\" checked><label for=\"sk-estimator-id-1\" class=\"sk-toggleable__label sk-toggleable__label-arrow\">KNeighborsClassifier</label><div class=\"sk-toggleable__content\"><pre>KNeighborsClassifier(n_neighbors=19)</pre></div></div></div></div></div>"
            ]
          },
          "metadata": {},
          "execution_count": 29
        }
      ]
    },
    {
      "cell_type": "code",
      "source": [
        "import pickle"
      ],
      "metadata": {
        "id": "4LUJB5nMgdCk"
      },
      "execution_count": null,
      "outputs": []
    },
    {
      "cell_type": "code",
      "source": [
        "filename = 'gamification.sav'\n",
        "pickle.dump(knn, open(filename, 'wb'))\n",
        "loaded_model = pickle.load(open(filename, 'rb'))"
      ],
      "metadata": {
        "id": "4JahxOrDghKf"
      },
      "execution_count": null,
      "outputs": []
    },
    {
      "cell_type": "markdown",
      "source": [
        "#Make predictions"
      ],
      "metadata": {
        "id": "cJZI4kd7hKWq"
      }
    },
    {
      "cell_type": "code",
      "source": [
        "Avg_Grade_Q2=3\n",
        "Avg_Grade_Q1=2\n",
        "Avg_Grade_Q4=6"
      ],
      "metadata": {
        "id": "ih4CzoTGhZXn"
      },
      "execution_count": null,
      "outputs": []
    },
    {
      "cell_type": "code",
      "source": [
        "prediction = loaded_model.predict([[Avg_Grade_Q2, Avg_Grade_Q1, Avg_Grade_Q4]])\n",
        "print(prediction)\n",
        "if (prediction[0]==0):\n",
        "  print(\"Not a Player\")\n",
        "else:\n",
        "  print(\"Player\")"
      ],
      "metadata": {
        "colab": {
          "base_uri": "https://localhost:8080/"
        },
        "id": "qFSWffVJh2HC",
        "outputId": "fe6a91e4-66d4-4df7-dbd8-bda7e4de8077"
      },
      "execution_count": null,
      "outputs": [
        {
          "output_type": "stream",
          "name": "stdout",
          "text": [
            "[1]\n",
            "Player\n"
          ]
        },
        {
          "output_type": "stream",
          "name": "stderr",
          "text": [
            "/usr/local/lib/python3.10/dist-packages/sklearn/base.py:439: UserWarning: X does not have valid feature names, but KNeighborsClassifier was fitted with feature names\n",
            "  warnings.warn(\n"
          ]
        }
      ]
    },
    {
      "cell_type": "code",
      "source": [
        "proba = loaded_model.predict_proba([[Avg_Grade_Q2, Avg_Grade_Q1, Avg_Grade_Q4]])\n",
        "print(proba)\n",
        "print(\"Confidence: \" + str(round(np.amax(proba[0]) * 100 ,2)) + \"%\")"
      ],
      "metadata": {
        "colab": {
          "base_uri": "https://localhost:8080/"
        },
        "id": "pfc03kEEi1CY",
        "outputId": "9668171c-b3eb-4b65-fdb5-2e8241a9d72e"
      },
      "execution_count": null,
      "outputs": [
        {
          "output_type": "stream",
          "name": "stdout",
          "text": [
            "[[0.21052632 0.57894737 0.15789474 0.05263158 0.        ]]\n",
            "Confidence: 57.89%\n"
          ]
        },
        {
          "output_type": "stream",
          "name": "stderr",
          "text": [
            "/usr/local/lib/python3.10/dist-packages/sklearn/base.py:439: UserWarning: X does not have valid feature names, but KNeighborsClassifier was fitted with feature names\n",
            "  warnings.warn(\n"
          ]
        }
      ]
    }
  ]
}